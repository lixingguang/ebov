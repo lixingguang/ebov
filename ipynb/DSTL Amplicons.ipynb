{
 "cells": [
  {
   "cell_type": "markdown",
   "metadata": {},
   "source": [
    "# Validation results\n",
    "\n",
    "In this notebook we examine how well Oxford Nanopore SNP calling agrees with SNP calling from Illumina data.\n",
    "\n",
    "The parameters we use are:\n",
    "    * nanopolish: 5-mer alignment, 6-mer variant calling, reverse HMM fix"
   ]
  },
  {
   "cell_type": "code",
   "execution_count": 2,
   "metadata": {
    "collapsed": false
   },
   "outputs": [],
   "source": [
    "ROOTDIR=\"/mnt/ebola/ebov\"\n",
    "import os\n",
    "os.environ['PATH'] = os.getenv('PATH') + ':' + ROOTDIR + '/scripts'"
   ]
  },
  {
   "cell_type": "code",
   "execution_count": 3,
   "metadata": {
    "collapsed": false
   },
   "outputs": [
    {
     "name": "stdout",
     "output_type": "stream",
     "text": [
      "/mnt/ebola/ebov\n"
     ]
    }
   ],
   "source": [
    "%cd $ROOTDIR"
   ]
  },
  {
   "cell_type": "code",
   "execution_count": null,
   "metadata": {
    "collapsed": true
   },
   "outputs": [],
   "source": [
    "bwa mem -R \"@RG\\tID:foo\\tSM:DSTL_illumina\" -t12 EM_079517.fasta <(zcat ../Ebola_S1_L001_R1_001.fastq.gz | head -400000) <(zcat ../Ebola_S1_L001_R2_001.fastq.gz | head -400000) | samtools view -bS - | samtools sort - DSTL_illumina.sorted\n",
    "freebayes -f EM_079517.fasta -p 1 DSTL_illumina.sorted.bam > DSTL_illumina.vcf\n",
    "vcf2fasta -f EM_079517.fasta -P 1 DSTL_illumina.vcf\n",
    "mv \"DSTL_illumina_EM_079517:0.fasta\" DSTL_illumina_mutated.fasta\n",
    "bwa index DSTL_illumina_mutated.fasta\n",
    "\n",
    "bwa mem -R \"@RG\\tID:foo\\tSM:DSTL_illumina\" -t12 DSTL_illumina_mutated.fasta <(zcat ../Ebola_S1_L001_R1_001.fastq.gz | head -400000) <(zcat ../Ebola_S1_L001_R2_001.fastq.gz | head -400000) | samtools view -bS - | samtools sort - DSTL_illumina_mutated.sorted\n",
    "\n",
    "freebayes -f DSTL_illumina_mutated.fasta -p 1 DSTL_illumina_mutated.sorted.bam > DSTL_illumina_mutated.vcf\n",
    "\n",
    "align_defaultkmer_margin_groups.sh  EM_079517 EBOV_amplicons_421 EBOV_amplicons_421 EBOV_amplicons_421_hq na hq 001\n",
    "consensus.sh  EM_079517 EBOV_amplicons_421 EBOV_amplicons_421 EBOV_amplicons_421_hq na hq 001\n",
    "margin_cons.py ../refs/EM_079517.fasta EBOV_amplicons_421_hq_EM_079517_np_primer.tagged.vcf EM_079517_EBOV_amplicons_421_hq_marginalign.sorted.bam all > cons.fasta\n",
    "../bin/MUMmer3.23/nucmer cons.fasta DSTL_consensus.fasta\n",
    "../bin/MUMmer3.23/show-snps -H out.delta\n",
    "./bin/MUMmer3.23/nucmer ../refs/EM_079517.fasta cons.fasta\n"
   ]
  },
  {
   "cell_type": "code",
   "execution_count": 10,
   "metadata": {
    "collapsed": false
   },
   "outputs": [
    {
     "name": "stdout",
     "output_type": "stream",
     "text": [
      "align_defaultkmer_margin_groups.sh  EM_079517 EBOV_amplicons_421 EBOV_amplicons_421 EBOV_amplicons_421_hq na hq 001\n",
      "align_defaultkmer_margin_groups.sh  EM_079517_mut30_2 EBOV_amplicons_421 EBOV_amplicons_421 EBOV_amplicons_421_hq na hq 001\n"
     ]
    }
   ],
   "source": [
    "%%bash\n",
    "\n",
    "ROOTDIR=\"/mnt/ebola/ebov\"\n",
    "cd $ROOTDIR\n",
    "export PATH=`pwd`/bin/bwa:$PATH\n",
    "export PATH=$PATH:`pwd`/scripts\n",
    "export PATH=$PATH:`pwd`/bin/nanopolish-6mer\n",
    "export PATH=$PATH:`pwd`/bin/samtools\n",
    "export PATH=$PATH:`pwd`/bin/marginAlign\n",
    "\n",
    "mkdir -p dstl\n",
    "cd dstl\n",
    "\n",
    "echo \"../models/6mer/ont_complement.pop1.model\" > offset_models.fofn\n",
    "echo \"../models/6mer/ont_complement.pop2.model\" >> offset_models.fofn\n",
    "echo \"../models/6mer/ont_template.model\" >> offset_models.fofn\n",
    "\n",
    "makecommands.py ../metadata/metadata.db DSTL-Validation align_defaultkmer_margin_groups.sh 001 "
   ]
  },
  {
   "cell_type": "code",
   "execution_count": 24,
   "metadata": {
    "collapsed": false
   },
   "outputs": [
    {
     "name": "stdout",
     "output_type": "stream",
     "text": [
      "[Errno 2] No such file or directory: '180genomes-validation'\n",
      "/mnt/ebola/ebov/180genomes-validation\n"
     ]
    }
   ],
   "source": [
    "## After the raw files are produced, show statistics.\n",
    "\n",
    "%cd 180genomes-validation"
   ]
  },
  {
   "cell_type": "code",
   "execution_count": 13,
   "metadata": {
    "collapsed": true
   },
   "outputs": [],
   "source": [
    "fh = open(\"validation_files.txt\", \"w\")\n",
    "fh.write(\"\"\"076534_180Genomes_11rx\tnp-var6mer-aln5mer\t../refs/EM_079517_EM_076534.mutations.txt\tnp_EM_079517_076534_180Genomes_11rx_hq.vcf\n",
    "076533_180Genomes_11rx\tnp-var6mer-aln5mer\t../refs/EM_079517_EM_076533.mutations.txt\tnp_EM_079517_076533_180Genomes_11rx_hq.vcf\n",
    "076383_180Genomes_11rx\tnp-var6mer-aln5mer\t../refs/EM_079517_EM_076383.mutations.txt\tnp_EM_079517_076383_180Genomes_11rx_hq.vcf\n",
    "078416_180Genomes_11rx\tnp-var6mer-aln5mer\t../refs/EM_079517_EM_078416.mutations.txt\tnp_EM_079517_078416_180Genomes_11rx_hq.vcf\n",
    "076769_180Genomes_19Rx\tnp-var6mer-aln5mer\t../refs/EM_079517_EM_076769.mutations.txt\tnp_EM_079517_076769_180Genomes_19Rx_hq.vcf\n",
    "\"\"\")\n",
    "fh.close()"
   ]
  },
  {
   "cell_type": "code",
   "execution_count": null,
   "metadata": {
    "collapsed": false
   },
   "outputs": [],
   "source": [
    "!../scripts/intersection_vcf_stats.py validation_files.txt | cut -f 1,2,5,6,7,8,9,10 | column -t "
   ]
  },
  {
   "cell_type": "code",
   "execution_count": 15,
   "metadata": {
    "collapsed": true
   },
   "outputs": [],
   "source": [
    "!../scripts/intersection_vcf_interrogate.py validation_files.txt > validation_stats.txt"
   ]
  },
  {
   "cell_type": "code",
   "execution_count": 16,
   "metadata": {
    "collapsed": false
   },
   "outputs": [
    {
     "name": "stdout",
     "output_type": "stream",
     "text": [
      "tag\tpos\tbasecalledfreq\tsupportfraction\tsupportingreads\tqual\tstate\r\n",
      "np-var6mer-aln5mer\t213\t0.748166\t0.911469\t906\t4797.7\tReal\r\n",
      "np-var6mer-aln5mer\t800\t0.895735\t0.929348\t513\t3189.4\tReal\r\n",
      "np-var6mer-aln5mer\t1849\t0.684444\t0.73503\t491\t3453.2\tReal\r\n",
      "np-var6mer-aln5mer\t2124\t0.847645\t0.892068\t686\t5673.5\tReal\r\n",
      "np-var6mer-aln5mer\t6283\t0.730769\t0.9375\t60\t296.7\tReal\r\n",
      "np-var6mer-aln5mer\t6909\t0.882812\t0.952555\t261\t2143.7\tReal\r\n",
      "np-var6mer-aln5mer\t8928\t0.647059\t0.875587\t373\t1413.6\tReal\r\n",
      "np-var6mer-aln5mer\t11204\t0.846405\t0.941456\t595\t4667.5\tReal\r\n",
      "np-var6mer-aln5mer\t12208\t0.874074\t0.865152\t571\t4013.5\tReal\r\n"
     ]
    }
   ],
   "source": [
    "!head -10 validation_stats.txt"
   ]
  },
  {
   "cell_type": "code",
   "execution_count": 17,
   "metadata": {
    "collapsed": false
   },
   "outputs": [
    {
     "name": "stderr",
     "output_type": "stream",
     "text": [
      "/mnt/ebola/ebov/venv/local/lib/python2.7/site-packages/rpy2/ipython/rmagic.py:68: UserWarning: The Python package 'pandas' is stronglyrecommended when using `rpy2.ipython`. Unfortunately it could not be loaded, but at least we found 'numpy'.\n",
      "  \"but at least we found 'numpy'.\")))\n"
     ]
    }
   ],
   "source": [
    "%load_ext rpy2.ipython"
   ]
  },
  {
   "cell_type": "code",
   "execution_count": 18,
   "metadata": {
    "collapsed": false
   },
   "outputs": [
    {
     "name": "stderr",
     "output_type": "stream",
     "text": [
      "/mnt/ebola/ebov/venv/local/lib/python2.7/site-packages/rpy2/robjects/functions.py:106: UserWarning: stat_bin: binwidth defaulted to range/30. Use 'binwidth = x' to adjust this.\n",
      "\n",
      "  res = super(Function, self).__call__(*new_args, **new_kwargs)\n"
     ]
    },
    {
     "data": {
      "image/png": "[encoded data removed]"
     },
     "metadata": {},
     "output_type": "display_data"
    }
   ],
   "source": [
    "%%R\n",
    "\n",
    "library(ggplot2)\n",
    "\n",
    "stats=read.table(\"validation_stats.txt\", header=T)\n",
    "ggplot(stats, aes(x=supportfraction, fill=state)) + geom_histogram() + facet_wrap(~tag)"
   ]
  },
  {
   "cell_type": "markdown",
   "metadata": {},
   "source": [
    "## Remove low depth positions from plot (depth >= 30)"
   ]
  },
  {
   "cell_type": "code",
   "execution_count": 19,
   "metadata": {
    "collapsed": false
   },
   "outputs": [
    {
     "data": {
      "image/png": "[encoded data removed]"
     },
     "metadata": {},
     "output_type": "display_data"
    }
   ],
   "source": [
    "%%R\n",
    "\n",
    "library(ggplot2)\n",
    "\n",
    "stats=read.table(\"validation_stats.txt\", header=T)\n",
    "ggplot(subset(stats, supportingreads>50), aes(x=supportfraction, fill=state)) + geom_histogram(breaks=c()) + facet_wrap(~tag)"
   ]
  },
  {
   "cell_type": "code",
   "execution_count": 21,
   "metadata": {
    "collapsed": false
   },
   "outputs": [
    {
     "data": {
      "image/png": "[encoded data removed]"
     },
     "metadata": {},
     "output_type": "display_data"
    }
   ],
   "source": [
    "%%R\n",
    "\n",
    "library(ggplot2)\n",
    "\n",
    "stats=read.table(\"validation_stats.txt\", header=T)\n",
    "ggplot(subset(stats, supportingreads>50), aes(x=qual, fill=state)) + geom_histogram(breaks=c()) + xlim(0,2000) + facet_wrap(~tag)"
   ]
  },
  {
   "cell_type": "markdown",
   "metadata": {
    "collapsed": true
   },
   "source": [
    "## Filter the files as per the study (depth > 30, support fraction > 0.70%, primer sequences masked)"
   ]
  },
  {
   "cell_type": "code",
   "execution_count": 22,
   "metadata": {
    "collapsed": false
   },
   "outputs": [
    {
     "name": "stdout",
     "output_type": "stream",
     "text": [
      "+ ref_prefix=EM_079517\n",
      "+ sample=076534_180Genomes_11rx\n",
      "+ poretools_dir=076534_180Genomes_11rx\n",
      "+ sample_tag=076534_180Genomes_11rx_hq\n",
      "+ second_batch=na\n",
      "+ vcftagprimersites.py all np_EM_079517_076534_180Genomes_11rx_hq.vcf\n",
      "+ vcffilter.py 076534_180Genomes_11rx_hq_EM_079517_np_primer.tagged.vcf\n",
      "Output 14 records\n",
      "+ vcffilterqual.py 076534_180Genomes_11rx_hq_EM_079517_np_primer.tagged.vcf\n",
      "Output 14 records\n",
      "+ ref_prefix=EM_079517\n",
      "+ sample=076383_180Genomes_11rx\n",
      "+ poretools_dir=076383_180Genomes_11rx\n",
      "+ sample_tag=076383_180Genomes_11rx_hq\n",
      "+ second_batch=na\n",
      "+ vcftagprimersites.py all np_EM_079517_076383_180Genomes_11rx_hq.vcf\n",
      "+ vcffilter.py 076383_180Genomes_11rx_hq_EM_079517_np_primer.tagged.vcf\n",
      "Filtering Record(CHROM=EM_079517, POS=40, REF=G, ALT=[T])\n",
      "Output 16 records\n",
      "+ vcffilterqual.py 076383_180Genomes_11rx_hq_EM_079517_np_primer.tagged.vcf\n",
      "Filtering Record(CHROM=EM_079517, POS=40, REF=G, ALT=[T])\n",
      "Output 16 records\n",
      "+ ref_prefix=EM_079517\n",
      "+ sample=076769_180Genomes_19Rx\n",
      "+ poretools_dir=076769_180Genomes_19Rx\n",
      "+ sample_tag=076769_180Genomes_19Rx_hq\n",
      "+ second_batch=na\n",
      "+ vcftagprimersites.py all np_EM_079517_076769_180Genomes_19Rx_hq.vcf\n",
      "+ vcffilter.py 076769_180Genomes_19Rx_hq_EM_079517_np_primer.tagged.vcf\n",
      "Filtering Record(CHROM=EM_079517, POS=3447, REF=T, ALT=[C])\n",
      "Output 18 records\n",
      "+ vcffilterqual.py 076769_180Genomes_19Rx_hq_EM_079517_np_primer.tagged.vcf\n",
      "Output 19 records\n",
      "+ ref_prefix=EM_079517_mut30_2\n",
      "+ sample=076534_180Genomes_11rx\n",
      "+ poretools_dir=076534_180Genomes_11rx\n",
      "+ sample_tag=076534_180Genomes_11rx_hq\n",
      "+ second_batch=na\n",
      "+ vcftagprimersites.py all np_EM_079517_mut30_2_076534_180Genomes_11rx_hq.vcf\n",
      "+ vcffilter.py 076534_180Genomes_11rx_hq_EM_079517_mut30_2_np_primer.tagged.vcf\n",
      "Output 38 records\n",
      "+ vcffilterqual.py 076534_180Genomes_11rx_hq_EM_079517_mut30_2_np_primer.tagged.vcf\n",
      "Output 38 records\n",
      "+ ref_prefix=EM_079517\n",
      "+ sample=076533_180Genomes_11rx\n",
      "+ poretools_dir=076533_180Genomes_11rx\n",
      "+ sample_tag=076533_180Genomes_11rx_hq\n",
      "+ second_batch=na\n",
      "+ vcftagprimersites.py all np_EM_079517_076533_180Genomes_11rx_hq.vcf\n",
      "+ vcffilter.py 076533_180Genomes_11rx_hq_EM_079517_np_primer.tagged.vcf\n",
      "Output 20 records\n",
      "+ vcffilterqual.py 076533_180Genomes_11rx_hq_EM_079517_np_primer.tagged.vcf\n",
      "Filtering Record(CHROM=EM_079517, POS=40, REF=G, ALT=[T])\n",
      "Output 19 records\n",
      "+ ref_prefix=EM_079517_mut30_2\n",
      "+ sample=076533_180Genomes_11rx\n",
      "+ poretools_dir=076533_180Genomes_11rx\n",
      "+ sample_tag=076533_180Genomes_11rx_hq\n",
      "+ second_batch=na\n",
      "+ vcftagprimersites.py all np_EM_079517_mut30_2_076533_180Genomes_11rx_hq.vcf\n",
      "+ vcffilter.py 076533_180Genomes_11rx_hq_EM_079517_mut30_2_np_primer.tagged.vcf\n",
      "Output 50 records\n",
      "+ vcffilterqual.py 076533_180Genomes_11rx_hq_EM_079517_mut30_2_np_primer.tagged.vcf\n",
      "Filtering Record(CHROM=EM_079517, POS=40, REF=G, ALT=[T])\n",
      "Output 49 records\n",
      "+ ref_prefix=EM_079517_mut30_2\n",
      "+ sample=076383_180Genomes_11rx\n",
      "+ poretools_dir=076383_180Genomes_11rx\n",
      "+ sample_tag=076383_180Genomes_11rx_hq\n",
      "+ second_batch=na\n",
      "+ vcftagprimersites.py all np_EM_079517_mut30_2_076383_180Genomes_11rx_hq.vcf\n",
      "+ vcffilter.py 076383_180Genomes_11rx_hq_EM_079517_mut30_2_np_primer.tagged.vcf\n",
      "Filtering Record(CHROM=EM_079517, POS=40, REF=G, ALT=[T])\n",
      "Output 46 records\n",
      "+ vcffilterqual.py 076383_180Genomes_11rx_hq_EM_079517_mut30_2_np_primer.tagged.vcf\n",
      "Filtering Record(CHROM=EM_079517, POS=40, REF=G, ALT=[T])\n",
      "Output 46 records\n",
      "+ ref_prefix=EM_079517\n",
      "+ sample=078416_180Genomes_11rx\n",
      "+ poretools_dir=078416_180Genomes_11rx\n",
      "+ sample_tag=078416_180Genomes_11rx_hq\n",
      "+ second_batch=na\n",
      "+ vcftagprimersites.py all np_EM_079517_078416_180Genomes_11rx_hq.vcf\n",
      "+ vcffilter.py 078416_180Genomes_11rx_hq_EM_079517_np_primer.tagged.vcf\n",
      "Filtering Record(CHROM=EM_079517, POS=2282, REF=G, ALT=[T])\n",
      "Output 17 records\n",
      "+ vcffilterqual.py 078416_180Genomes_11rx_hq_EM_079517_np_primer.tagged.vcf\n",
      "Filtering Record(CHROM=EM_079517, POS=2282, REF=G, ALT=[T])\n",
      "Output 17 records\n",
      "+ ref_prefix=EM_079517_mut30_2\n",
      "+ sample=078416_180Genomes_11rx\n",
      "+ poretools_dir=078416_180Genomes_11rx\n",
      "+ sample_tag=078416_180Genomes_11rx_hq\n",
      "+ second_batch=na\n",
      "+ vcftagprimersites.py all np_EM_079517_mut30_2_078416_180Genomes_11rx_hq.vcf\n",
      "+ vcffilter.py 078416_180Genomes_11rx_hq_EM_079517_mut30_2_np_primer.tagged.vcf\n",
      "Output 48 records\n",
      "+ vcffilterqual.py 078416_180Genomes_11rx_hq_EM_079517_mut30_2_np_primer.tagged.vcf\n",
      "Output 48 records\n",
      "+ ref_prefix=EM_079517_mut30_2\n",
      "+ sample=076769_180Genomes_19Rx\n",
      "+ poretools_dir=076769_180Genomes_19Rx\n",
      "+ sample_tag=076769_180Genomes_19Rx_hq\n",
      "+ second_batch=na\n",
      "+ vcftagprimersites.py all np_EM_079517_mut30_2_076769_180Genomes_19Rx_hq.vcf\n",
      "+ vcffilter.py 076769_180Genomes_19Rx_hq_EM_079517_mut30_2_np_primer.tagged.vcf\n",
      "Filtering Record(CHROM=EM_079517, POS=3447, REF=T, ALT=[C])\n",
      "Output 49 records\n",
      "+ vcffilterqual.py 076769_180Genomes_19Rx_hq_EM_079517_mut30_2_np_primer.tagged.vcf\n",
      "Output 50 records\n"
     ]
    }
   ],
   "source": [
    "!makecommands.py ../metadata/metadata.db 180_Genomes consensus | parallel -j16"
   ]
  },
  {
   "cell_type": "code",
   "execution_count": 34,
   "metadata": {
    "collapsed": true
   },
   "outputs": [],
   "source": [
    "fh = open(\"validation_files_filtered.txt\", \"w\")\n",
    "fh.write(\"\"\"076534_180Genomes_11rx\tnp-6mer-5meralign\t../refs/EM_079517_EM_076534.mutations.txt\t076534_180Genomes_11rx_hq_EM_079517_np_primer.filtered075_30.vcf\n",
    "076533_180Genomes_11rx\tnp-6mer-5meralign\t../refs/EM_079517_EM_076533.mutations.txt\t076533_180Genomes_11rx_hq_EM_079517_np_primer.filtered075_30.vcf\n",
    "076383_180Genomes_11rx\tnp-6mer-5meralign\t../refs/EM_079517_EM_076383.mutations.txt\t076383_180Genomes_11rx_hq_EM_079517_np_primer.filtered075_30.vcf\n",
    "078416_180Genomes_11rx\tnp-6mer-5meralign\t../refs/EM_079517_EM_078416.mutations.txt\t078416_180Genomes_11rx_hq_EM_079517_np_primer.filtered075_30.vcf\n",
    "076769_180Genomes_19Rx\tnp-6mer-5meralign\t../refs/EM_079517_EM_076769.mutations.txt\t076769_180Genomes_19Rx_hq_EM_079517_np_primer.filtered075_30.vcf\"\"\")\n",
    "fh.close()"
   ]
  },
  {
   "cell_type": "code",
   "execution_count": 35,
   "metadata": {
    "collapsed": false
   },
   "outputs": [
    {
     "name": "stdout",
     "output_type": "stream",
     "text": [
      "sample                  tag                total_calls  mutations  TP    FP   FN   TPR\r\n",
      "076534_180Genomes_11rx  np-6mer-5meralign  14           17         14.0  0.0  3.0  0.823529411765\r\n",
      "076533_180Genomes_11rx  np-6mer-5meralign  19           19         19.0  0.0  0.0  1.0\r\n",
      "076383_180Genomes_11rx  np-6mer-5meralign  16           17         16.0  0.0  1.0  0.941176470588\r\n",
      "078416_180Genomes_11rx  np-6mer-5meralign  17           18         17.0  0.0  1.0  0.944444444444\r\n",
      "076769_180Genomes_19Rx  np-6mer-5meralign  18           19         18.0  0.0  1.0  0.947368421053\r\n"
     ]
    }
   ],
   "source": [
    "!../scripts/intersection_vcf_stats.py validation_files_filtered.txt | cut -f 1,2,5,6,7,8,9,10 | column -t "
   ]
  },
  {
   "cell_type": "markdown",
   "metadata": {},
   "source": [
    "# Get the 180 genome set"
   ]
  },
  {
   "cell_type": "code",
   "execution_count": null,
   "metadata": {
    "collapsed": false
   },
   "outputs": [],
   "source": [
    "from Bio import Entrez\n",
    "Entrez.email = \"n.j.loman@bham.ac.uk\"     # Always tell NCBI who you are\n",
    "handle = Entrez.esearch(db=\"nucleotide\", term=\"carroll and hiscox and ebola\", retmax=200)\n",
    "record = Entrez.read(handle)\n",
    "handle = Entrez.efetch(db=\"nucleotide\", id=record[\"IdList\"], rettype=\"fasta\", retmode=\"text\")\n",
    "fh = open(\"180_Genomes_references.fasta\", \"w\")\n",
    "fh.write(handle.read())"
   ]
  },
  {
   "cell_type": "code",
   "execution_count": null,
   "metadata": {
    "collapsed": false
   },
   "outputs": [],
   "source": [
    "!echo \"\\n\"  >> 180_Genomes_references.fasta \n",
    "!cat 180_Genomes_references.fasta  180_Genomes.fasta > validate_tree.fasta\n",
    "!sed --in-place '/^$/d' validate_tree.fasta\n",
    "!muscle3.8.31_i86linux64 -in validate_tree.fasta > validate_tree_aligned.fasta"
   ]
  },
  {
   "cell_type": "code",
   "execution_count": null,
   "metadata": {
    "collapsed": true
   },
   "outputs": [],
   "source": [
    "!sed --in-place 's/>.*H.sapiens-wt\\//>/' validate_tree_aligned.fasta\n",
    "!sed --in-place 's/>EM_079517_/>MinION_/' validate_tree_aligned.fasta\n",
    "!sed --in-place 's/,//' validate_tree_aligned.fasta"
   ]
  },
  {
   "cell_type": "code",
   "execution_count": null,
   "metadata": {
    "collapsed": false
   },
   "outputs": [],
   "source": [
    "!grep \">\" validate_tree_aligned.fasta"
   ]
  },
  {
   "cell_type": "code",
   "execution_count": null,
   "metadata": {
    "collapsed": false
   },
   "outputs": [],
   "source": [
    "!rm *validate_tree_aligned.raxml\n",
    "!raxmlHPC-PTHREADS-SSE3 -T 32 -f a -x 12345 -p 12345 -# 100 -m GTRGAMMA -s validate_tree_aligned.fasta -n validate_tree_aligned.raxml"
   ]
  },
  {
   "cell_type": "code",
   "execution_count": null,
   "metadata": {
    "collapsed": false
   },
   "outputs": [],
   "source": [
    "!cat /mnt/ebola/ebov/analysis/RAxML_bipartitions.validate_tree_aligned.raxml\n"
   ]
  },
  {
   "cell_type": "code",
   "execution_count": null,
   "metadata": {
    "collapsed": false
   },
   "outputs": [],
   "source": [
    "!pip install ete2\n",
    "\n",
    "from ete2 import Tree\n",
    "t = Tree()\n",
    "t.populate(20)\n",
    "t.render(file_name=\"test.png\", w=500)"
   ]
  },
  {
   "cell_type": "code",
   "execution_count": null,
   "metadata": {
    "collapsed": true
   },
   "outputs": [],
   "source": []
  }
 ],
 "metadata": {
  "kernelspec": {
   "display_name": "Python 2",
   "language": "python",
   "name": "python2"
  },
  "language_info": {
   "codemirror_mode": {
    "name": "ipython",
    "version": 2
   },
   "file_extension": ".py",
   "mimetype": "text/x-python",
   "name": "python",
   "nbconvert_exporter": "python",
   "pygments_lexer": "ipython2",
   "version": "2.7.6"
  }
 },
 "nbformat": 4,
 "nbformat_minor": 0
}
