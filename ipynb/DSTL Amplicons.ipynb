{
 "cells": [
  {
   "cell_type": "markdown",
   "metadata": {},
   "source": [
    "# Validation results\n",
    "\n",
    "In this notebook we examine how well Oxford Nanopore SNP calling agrees with SNP calling from Illumina data.\n",
    "\n",
    "The parameters we use are:\n",
    "    * nanopolish: 5-mer alignment, 6-mer variant calling, reverse HMM fix"
   ]
  },
  {
   "cell_type": "code",
   "execution_count": 2,
   "metadata": {
    "collapsed": false
   },
   "outputs": [],
   "source": [
    "ROOTDIR=\"/mnt/ebola/ebov\"\n",
    "import os\n",
    "os.environ['PATH'] = os.getenv('PATH') + ':' + ROOTDIR + '/scripts'"
   ]
  },
  {
   "cell_type": "code",
   "execution_count": null,
   "metadata": {
    "collapsed": true
   },
   "outputs": [],
   "source": [
    "bwa mem -R \"@RG\\tID:foo\\tSM:DSTL_illumina\" -t12 EM_079517.fasta <(zcat ../Ebola_S1_L001_R1_001.fastq.gz | head -400000) <(zcat ../Ebola_S1_L001_R2_001.fastq.gz | head -400000) | samtools view -bS - | samtools sort - DSTL_illumina.sorted\n",
    "freebayes -f EM_079517.fasta -p 1 DSTL_illumina.sorted.bam > DSTL_illumina.vcf\n",
    "vcf2fasta -f EM_079517.fasta -P 1 DSTL_illumina.vcf\n",
    "mv \"DSTL_illumina_EM_079517:0.fasta\" DSTL_illumina_mutated.fasta\n",
    "bwa index DSTL_illumina_mutated.fasta\n",
    "\n",
    "bwa mem -R \"@RG\\tID:foo\\tSM:DSTL_illumina\" -t12 DSTL_illumina_mutated.fasta <(zcat ../Ebola_S1_L001_R1_001.fastq.gz | head -400000) <(zcat ../Ebola_S1_L001_R2_001.fastq.gz | head -400000) | samtools view -bS - | samtools sort - DSTL_illumina_mutated.sorted\n",
    "\n",
    "freebayes -f DSTL_illumina_mutated.fasta -p 1 DSTL_illumina_mutated.sorted.bam > DSTL_illumina_mutated.vcf\n",
    "\n",
    "align_defaultkmer_margin_groups.sh  EM_079517 EBOV_amplicons_421 EBOV_amplicons_421 EBOV_amplicons_421_hq na hq 001\n",
    "consensus.sh  EM_079517 EBOV_amplicons_421 EBOV_amplicons_421 EBOV_amplicons_421_hq na hq 001\n",
    "margin_cons.py ../refs/EM_079517.fasta EBOV_amplicons_421_hq_EM_079517_np_primer.tagged.vcf EM_079517_EBOV_amplicons_421_hq_marginalign.sorted.bam all > cons.fasta\n",
    "../bin/MUMmer3.23/nucmer cons.fasta DSTL_consensus.fasta\n",
    "../bin/MUMmer3.23/show-snps -H out.delta\n",
    "./bin/MUMmer3.23/nucmer ../refs/EM_079517.fasta cons.fasta\n"
   ]
  },
  {
   "cell_type": "code",
   "execution_count": 24,
   "metadata": {
    "collapsed": false
   },
   "outputs": [
    {
     "name": "stderr",
     "output_type": "stream",
     "text": [
      "+ ref_prefix=EM_079517\n",
      "+ sample=EBOV_amplicons_421\n",
      "+ poretools_dir=EBOV_amplicons_421\n",
      "+ sample_tag=EBOV_amplicons_421_hq\n",
      "+ second_batch=na\n",
      "+ read_type=hq\n",
      "+ expand-cigar.py --fasta ../refs/EM_079517.fasta --bam EM_079517_EBOV_amplicons_421_hq_marginalign.sorted.bam\n",
      "+ count-errors.py -\n"
     ]
    }
   ],
   "source": [
    "%%bash\n",
    "\n",
    "ROOTDIR=\"/mnt/ebola/ebov\"\n",
    "cd $ROOTDIR\n",
    "export PATH=`pwd`/bin/bwa:$PATH\n",
    "export PATH=$PATH:`pwd`/bin/nanopore-scripts\n",
    "export PATH=$PATH:`pwd`/scripts\n",
    "export PATH=$PATH:`pwd`/bin/nanopolish-6mer\n",
    "export PATH=$PATH:`pwd`/bin/samtools\n",
    "export PATH=$PATH:`pwd`/bin/marginAlign\n",
    "cd dstl\n",
    "\n",
    "qual.sh EM_079517 EBOV_amplicons_421 EBOV_amplicons_421 EBOV_amplicons_421_hq na hq 001"
   ]
  },
  {
   "cell_type": "code",
   "execution_count": 27,
   "metadata": {
    "collapsed": false
   },
   "outputs": [],
   "source": [
    "!../scripts/collect_quals.py ../metadata/metadata.db DSTL-Validation > stats.txt"
   ]
  },
  {
   "cell_type": "code",
   "execution_count": 31,
   "metadata": {
    "collapsed": false
   },
   "outputs": [
    {
     "name": "stderr",
     "output_type": "stream",
     "text": [
      "/mnt/ebola/ebov/venv/local/lib/python2.7/site-packages/rpy2/ipython/rmagic.py:68: UserWarning: The Python package 'pandas' is stronglyrecommended when using `rpy2.ipython`. Unfortunately it could not be loaded, but at least we found 'numpy'.\n",
      "  \"but at least we found 'numpy'.\")))\n"
     ]
    }
   ],
   "source": [
    "%load_ext rpy2.ipython"
   ]
  },
  {
   "cell_type": "code",
   "execution_count": 32,
   "metadata": {
    "collapsed": false
   },
   "outputs": [
    {
     "name": "stderr",
     "output_type": "stream",
     "text": [
      "/mnt/ebola/ebov/venv/local/lib/python2.7/site-packages/rpy2/robjects/functions.py:106: UserWarning: stat_bin: binwidth defaulted to range/30. Use 'binwidth = x' to adjust this.\n",
      "\n",
      "  res = super(Function, self).__call__(*new_args, **new_kwargs)\n"
     ]
    },
    {
     "data": {
      "image/png": "[encoded data removed]"
     },
     "metadata": {},
     "output_type": "display_data"
    }
   ],
   "source": [
    "%%R\n",
    "library(ggplot2)\n",
    "library(grid)\n",
    "library(plyr)\n",
    "a=read.table(\"stats.txt\", sep=\"\\t\", header=T)\n",
    "a=subset(a, aln == 'ma')\n",
    "a$perc = a$matches/(a$matches + a$insertions + a$deletions + a$mismatches)*100\n",
    "cdat <- ddply(a, \"sample\", summarise, sample.mean=mean(perc))\n",
    "cdat\n",
    "ggplot(a, aes(x=perc)) +\n",
    "  geom_histogram() +\n",
    "  scale_x_continuous(breaks=c(60, 70, 80, 90, 100)) +\n",
    "  geom_vline(data=cdat, aes(xintercept=sample.mean), size=0.2, linetype=\"dashed\") +\n",
    "  theme_bw(base_size=8) + xlab(\"Percentage accuracy\") +\n",
    "  facet_wrap(~ sample, ncol=1)"
   ]
  },
  {
   "cell_type": "code",
   "execution_count": 14,
   "metadata": {
    "collapsed": false
   },
   "outputs": [
    {
     "name": "stdout",
     "output_type": "stream",
     "text": [
      "/mnt/ebola/ebov/dstl\n"
     ]
    }
   ],
   "source": [
    "%cd $ROOTDIR/dstl"
   ]
  },
  {
   "cell_type": "code",
   "execution_count": 18,
   "metadata": {
    "collapsed": false
   },
   "outputs": [
    {
     "name": "stdout",
     "output_type": "stream",
     "text": [
      "1: PREPARING DATA\r\n",
      "2,3: RUNNING mummer AND CREATING CLUSTERS\r\n",
      "# reading input file \"out.ntref\" of length 18960\r\n",
      "# construct suffix tree for sequence of length 18960\r\n",
      "# (maximum reference length is 536870908)\r\n",
      "# (maximum query length is 4294967295)\r\n",
      "# CONSTRUCTIONTIME /mnt/ebola/ebov/bin/MUMmer3.23/mummer out.ntref 0.00\r\n",
      "# reading input file \"/mnt/ebola/ebov/dstl/DSTL_consensus.fasta\" of length 18959\r\n",
      "# matching query-file \"/mnt/ebola/ebov/dstl/DSTL_consensus.fasta\"\r\n",
      "# against subject-file \"out.ntref\"\r\n",
      "# COMPLETETIME /mnt/ebola/ebov/bin/MUMmer3.23/mummer out.ntref 0.01\r\n",
      "# SPACE /mnt/ebola/ebov/bin/MUMmer3.23/mummer out.ntref 0.04\r\n",
      "4: FINISHING DATA\r\n"
     ]
    }
   ],
   "source": [
    "!../bin/MUMmer3.23/nucmer ../refs/EM_079517.fasta DSTL_consensus.fasta"
   ]
  },
  {
   "cell_type": "code",
   "execution_count": 19,
   "metadata": {
    "collapsed": false
   },
   "outputs": [
    {
     "name": "stdout",
     "output_type": "stream",
     "text": [
      "     127   T C   127       |       22      127  |    0    0  |  1  1  EM_079517\tEM_079517\r\n",
      "     149   T C   149       |        6      149  |    0    0  |  1  1  EM_079517\tEM_079517\r\n",
      "     155   C A   155       |        6      155  |    0    0  |  1  1  EM_079517\tEM_079517\r\n",
      "     182   G A   182       |        5      182  |    0    0  |  1  1  EM_079517\tEM_079517\r\n",
      "     187   G A   187       |        5      187  |    0    0  |  1  1  EM_079517\tEM_079517\r\n",
      "     213   G A   213       |       17      213  |    0    0  |  1  1  EM_079517\tEM_079517\r\n",
      "     230   T C   230       |        6      230  |    0    0  |  1  1  EM_079517\tEM_079517\r\n",
      "     236   C T   236       |        6      236  |    0    0  |  1  1  EM_079517\tEM_079517\r\n",
      "     257   G A   257       |        4      257  |    0    0  |  1  1  EM_079517\tEM_079517\r\n",
      "     261   T C   261       |        2      261  |    0    0  |  1  1  EM_079517\tEM_079517\r\n",
      "     263   A G   263       |        2      263  |    0    0  |  1  1  EM_079517\tEM_079517\r\n",
      "     295   C A   295       |       32      295  |    0    0  |  1  1  EM_079517\tEM_079517\r\n",
      "     356   T C   356       |        4      356  |    0    0  |  1  1  EM_079517\tEM_079517\r\n",
      "     360   A G   360       |        4      360  |    0    0  |  1  1  EM_079517\tEM_079517\r\n",
      "     369   C T   369       |        8      369  |    0    0  |  1  1  EM_079517\tEM_079517\r\n",
      "     377   C T   377       |        1      377  |    0    0  |  1  1  EM_079517\tEM_079517\r\n",
      "     378   C T   378       |        1      378  |    0    0  |  1  1  EM_079517\tEM_079517\r\n",
      "     381   A G   381       |        3      381  |    0    0  |  1  1  EM_079517\tEM_079517\r\n",
      "     385   C T   385       |        3      385  |    0    0  |  1  1  EM_079517\tEM_079517\r\n",
      "     388   G A   388       |        3      388  |    0    0  |  1  1  EM_079517\tEM_079517\r\n",
      "     392   C T   392       |        4      392  |    0    0  |  1  1  EM_079517\tEM_079517\r\n",
      "     409   C T   409       |       15      409  |    0    0  |  1  1  EM_079517\tEM_079517\r\n",
      "     424   A G   424       |       10      424  |    0    0  |  1  1  EM_079517\tEM_079517\r\n",
      "     434   T A   434       |       10      434  |    0    0  |  1  1  EM_079517\tEM_079517\r\n",
      "     491   G A   491       |        9      491  |    0    0  |  1  1  EM_079517\tEM_079517\r\n",
      "     500   A G   500       |        9      500  |    0    0  |  1  1  EM_079517\tEM_079517\r\n",
      "     619   G A   619       |       36      619  |    0    0  |  1  1  EM_079517\tEM_079517\r\n",
      "     655   T A   655       |       36      655  |    0    0  |  1  1  EM_079517\tEM_079517\r\n",
      "     721   A G   721       |       66      721  |    0    0  |  1  1  EM_079517\tEM_079517\r\n",
      "     850   G A   850       |        2      850  |    0    0  |  1  1  EM_079517\tEM_079517\r\n",
      "     852   G A   852       |        2      852  |    0    0  |  1  1  EM_079517\tEM_079517\r\n",
      "     895   G A   895       |       24      895  |    0    0  |  1  1  EM_079517\tEM_079517\r\n",
      "     919   C T   919       |       24      919  |    0    0  |  1  1  EM_079517\tEM_079517\r\n",
      "    1094   T C   1094      |       14     1094  |    0    0  |  1  1  EM_079517\tEM_079517\r\n",
      "    1108   T C   1108      |       14     1108  |    0    0  |  1  1  EM_079517\tEM_079517\r\n",
      "    1141   A G   1141      |       33     1141  |    0    0  |  1  1  EM_079517\tEM_079517\r\n",
      "    1198   T C   1198      |        1     1198  |    0    0  |  1  1  EM_079517\tEM_079517\r\n",
      "    1199   C T   1199      |        1     1199  |    0    0  |  1  1  EM_079517\tEM_079517\r\n",
      "    1309   C T   1309      |      108     1309  |    0    0  |  1  1  EM_079517\tEM_079517\r\n",
      "    1417   G A   1417      |       30     1417  |    0    0  |  1  1  EM_079517\tEM_079517\r\n",
      "    1447   C A   1447      |        9     1447  |    0    0  |  1  1  EM_079517\tEM_079517\r\n",
      "    1456   C T   1456      |        9     1456  |    0    0  |  1  1  EM_079517\tEM_079517\r\n",
      "    1495   G A   1495      |       12     1495  |    0    0  |  1  1  EM_079517\tEM_079517\r\n",
      "    1507   A T   1507      |       12     1507  |    0    0  |  1  1  EM_079517\tEM_079517\r\n",
      "    1543   G A   1543      |        9     1543  |    0    0  |  1  1  EM_079517\tEM_079517\r\n",
      "    1552   T C   1552      |        9     1552  |    0    0  |  1  1  EM_079517\tEM_079517\r\n",
      "    1648   G T   1648      |       57     1648  |    0    0  |  1  1  EM_079517\tEM_079517\r\n",
      "    1705   A G   1705      |       57     1705  |    0    0  |  1  1  EM_079517\tEM_079517\r\n",
      "    1843   A G   1843      |       19     1843  |    0    0  |  1  1  EM_079517\tEM_079517\r\n",
      "    1862   G A   1862      |       17     1862  |    0    0  |  1  1  EM_079517\tEM_079517\r\n",
      "    1879   A G   1879      |       17     1879  |    0    0  |  1  1  EM_079517\tEM_079517\r\n",
      "    1902   G A   1902      |       23     1902  |    0    0  |  1  1  EM_079517\tEM_079517\r\n",
      "    1954   C T   1954      |       15     1954  |    0    0  |  1  1  EM_079517\tEM_079517\r\n",
      "    1969   C T   1969      |       15     1969  |    0    0  |  1  1  EM_079517\tEM_079517\r\n",
      "    1996   A G   1996      |       23     1996  |    0    0  |  1  1  EM_079517\tEM_079517\r\n",
      "    2019   C T   2019      |       23     2019  |    0    0  |  1  1  EM_079517\tEM_079517\r\n",
      "    2043   C G   2043      |        6     2043  |    0    0  |  1  1  EM_079517\tEM_079517\r\n",
      "    2049   C T   2049      |        6     2049  |    0    0  |  1  1  EM_079517\tEM_079517\r\n",
      "    2056   C T   2056      |        4     2056  |    0    0  |  1  1  EM_079517\tEM_079517\r\n",
      "    2060   A C   2060      |        4     2060  |    0    0  |  1  1  EM_079517\tEM_079517\r\n",
      "    2070   G A   2070      |       10     2070  |    0    0  |  1  1  EM_079517\tEM_079517\r\n",
      "    2086   T C   2086      |        9     2086  |    0    0  |  1  1  EM_079517\tEM_079517\r\n",
      "    2095   T G   2095      |        9     2095  |    0    0  |  1  1  EM_079517\tEM_079517\r\n",
      "    2122   C T   2122      |        2     2122  |    0    0  |  1  1  EM_079517\tEM_079517\r\n",
      "    2124   G A   2124      |        2     2124  |    0    0  |  1  1  EM_079517\tEM_079517\r\n",
      "    2158   C A   2158      |        6     2158  |    0    0  |  1  1  EM_079517\tEM_079517\r\n",
      "    2164   C T   2164      |        6     2164  |    0    0  |  1  1  EM_079517\tEM_079517\r\n",
      "    2224   A G   2224      |       18     2224  |    0    0  |  1  1  EM_079517\tEM_079517\r\n",
      "    2242   A G   2242      |       18     2242  |    0    0  |  1  1  EM_079517\tEM_079517\r\n",
      "    2263   T C   2263      |       21     2263  |    0    0  |  1  1  EM_079517\tEM_079517\r\n",
      "    2314   C T   2314      |       24     2314  |    0    0  |  1  1  EM_079517\tEM_079517\r\n",
      "    2338   T C   2338      |        3     2338  |    0    0  |  1  1  EM_079517\tEM_079517\r\n",
      "    2341   A G   2341      |        3     2341  |    0    0  |  1  1  EM_079517\tEM_079517\r\n",
      "    2361   T C   2361      |       19     2361  |    0    0  |  1  1  EM_079517\tEM_079517\r\n",
      "    2380   A G   2380      |       19     2380  |    0    0  |  1  1  EM_079517\tEM_079517\r\n",
      "    2407   T C   2407      |       27     2407  |    0    0  |  1  1  EM_079517\tEM_079517\r\n",
      "    2461   C T   2461      |       54     2461  |    0    0  |  1  1  EM_079517\tEM_079517\r\n",
      "    2518   T C   2518      |       18     2518  |    0    0  |  1  1  EM_079517\tEM_079517\r\n",
      "    2536   G A   2536      |       18     2536  |    0    0  |  1  1  EM_079517\tEM_079517\r\n",
      "    2584   C T   2584      |        9     2584  |    0    0  |  1  1  EM_079517\tEM_079517\r\n",
      "    2593   T A   2593      |        9     2593  |    0    0  |  1  1  EM_079517\tEM_079517\r\n",
      "    2612   C T   2612      |       19     2612  |    0    0  |  1  1  EM_079517\tEM_079517\r\n",
      "    2638   A G   2638      |        3     2638  |    0    0  |  1  1  EM_079517\tEM_079517\r\n",
      "    2641   A G   2641      |        3     2641  |    0    0  |  1  1  EM_079517\tEM_079517\r\n",
      "    2652   G A   2652      |       11     2652  |    0    0  |  1  1  EM_079517\tEM_079517\r\n",
      "    2699   T G   2699      |        3     2699  |    0    0  |  1  1  EM_079517\tEM_079517\r\n",
      "    2702   T C   2702      |        3     2702  |    0    0  |  1  1  EM_079517\tEM_079517\r\n",
      "    2715   T C   2715      |        3     2715  |    0    0  |  1  1  EM_079517\tEM_079517\r\n",
      "    2718   T C   2718      |        3     2718  |    0    0  |  1  1  EM_079517\tEM_079517\r\n",
      "    2739   A G   2739      |       14     2739  |    0    0  |  1  1  EM_079517\tEM_079517\r\n",
      "    2753   C A   2753      |       14     2753  |    0    0  |  1  1  EM_079517\tEM_079517\r\n",
      "    2815   G T   2815      |       62     2815  |    0    0  |  1  1  EM_079517\tEM_079517\r\n",
      "    2914   G T   2914      |       13     2914  |    0    0  |  1  1  EM_079517\tEM_079517\r\n",
      "    2927   C T   2927      |        1     2927  |    0    0  |  1  1  EM_079517\tEM_079517\r\n",
      "    2928   T C   2928      |        1     2928  |    0    0  |  1  1  EM_079517\tEM_079517\r\n",
      "    2931   G A   2931      |        2     2931  |    0    0  |  1  1  EM_079517\tEM_079517\r\n",
      "    2933   C T   2933      |        2     2933  |    0    0  |  1  1  EM_079517\tEM_079517\r\n",
      "    3084   A C   3084      |       36     3084  |    0    0  |  1  1  EM_079517\tEM_079517\r\n",
      "    3120   C T   3120      |       36     3120  |    0    0  |  1  1  EM_079517\tEM_079517\r\n",
      "    3163   T C   3163      |       43     3163  |    0    0  |  1  1  EM_079517\tEM_079517\r\n",
      "    3239   G A   3239      |       11     3239  |    0    0  |  1  1  EM_079517\tEM_079517\r\n",
      "    3250   A G   3250      |       11     3250  |    0    0  |  1  1  EM_079517\tEM_079517\r\n",
      "    3331   T C   3331      |       81     3331  |    0    0  |  1  1  EM_079517\tEM_079517\r\n",
      "    3620   T C   3620      |       81     3620  |    0    0  |  1  1  EM_079517\tEM_079517\r\n",
      "    3701   T C   3701      |       37     3701  |    0    0  |  1  1  EM_079517\tEM_079517\r\n",
      "    3738   G A   3738      |       37     3738  |    0    0  |  1  1  EM_079517\tEM_079517\r\n",
      "    3890   T C   3890      |       12     3890  |    0    0  |  1  1  EM_079517\tEM_079517\r\n",
      "    3902   T C   3902      |       12     3902  |    0    0  |  1  1  EM_079517\tEM_079517\r\n",
      "    3944   C T   3944      |       42     3944  |    0    0  |  1  1  EM_079517\tEM_079517\r\n",
      "    4055   G A   4055      |       24     4055  |    0    0  |  1  1  EM_079517\tEM_079517\r\n",
      "    4079   A G   4079      |       24     4079  |    0    0  |  1  1  EM_079517\tEM_079517\r\n",
      "    4161   T C   4161      |        1     4161  |    0    0  |  1  1  EM_079517\tEM_079517\r\n",
      "    4162   T C   4162      |        1     4162  |    0    0  |  1  1  EM_079517\tEM_079517\r\n",
      "    4180   A G   4180      |        2     4180  |    0    0  |  1  1  EM_079517\tEM_079517\r\n",
      "    4182   C A   4182      |        2     4182  |    0    0  |  1  1  EM_079517\tEM_079517\r\n",
      "    4219   T C   4219      |       36     4219  |    0    0  |  1  1  EM_079517\tEM_079517\r\n",
      "    4255   A G   4255      |       22     4255  |    0    0  |  1  1  EM_079517\tEM_079517\r\n",
      "    4277   A G   4277      |       22     4277  |    0    0  |  1  1  EM_079517\tEM_079517\r\n",
      "    4597   A T   4597      |       13     4597  |    0    0  |  1  1  EM_079517\tEM_079517\r\n",
      "    4610   A G   4610      |       13     4610  |    0    0  |  1  1  EM_079517\tEM_079517\r\n",
      "    4643   T C   4643      |       33     4643  |    0    0  |  1  1  EM_079517\tEM_079517\r\n",
      "    4703   C T   4703      |       60     4703  |    0    0  |  1  1  EM_079517\tEM_079517\r\n",
      "    4838   T C   4838      |       33     4838  |    0    0  |  1  1  EM_079517\tEM_079517\r\n",
      "    4871   G A   4871      |       33     4871  |    0    0  |  1  1  EM_079517\tEM_079517\r\n",
      "    4913   C T   4913      |       42     4913  |    0    0  |  1  1  EM_079517\tEM_079517\r\n",
      "    4970   A G   4970      |       57     4970  |    0    0  |  1  1  EM_079517\tEM_079517\r\n",
      "    5027   T C   5027      |       42     5027  |    0    0  |  1  1  EM_079517\tEM_079517\r\n",
      "    5069   T A   5069      |       42     5069  |    0    0  |  1  1  EM_079517\tEM_079517\r\n",
      "    5219   T C   5219      |       39     5219  |    0    0  |  1  1  EM_079517\tEM_079517\r\n",
      "    5258   T A   5258      |       39     5258  |    0    0  |  1  1  EM_079517\tEM_079517\r\n",
      "    5312   C T   5312      |       54     5312  |    0    0  |  1  1  EM_079517\tEM_079517\r\n",
      "    5448   G A   5448      |       41     5448  |    0    0  |  1  1  EM_079517\tEM_079517\r\n",
      "    5489   C T   5489      |       31     5489  |    0    0  |  1  1  EM_079517\tEM_079517\r\n",
      "    5520   T A   5520      |        5     5520  |    0    0  |  1  1  EM_079517\tEM_079517\r\n",
      "    5525   A G   5525      |        5     5525  |    0    0  |  1  1  EM_079517\tEM_079517\r\n",
      "    5535   T C   5535      |        2     5535  |    0    0  |  1  1  EM_079517\tEM_079517\r\n",
      "    5537   C T   5537      |        2     5537  |    0    0  |  1  1  EM_079517\tEM_079517\r\n",
      "    5542   A G   5542      |        5     5542  |    0    0  |  1  1  EM_079517\tEM_079517\r\n",
      "    5547   T C   5547      |        5     5547  |    0    0  |  1  1  EM_079517\tEM_079517\r\n",
      "    5552   C T   5552      |        5     5552  |    0    0  |  1  1  EM_079517\tEM_079517\r\n",
      "    5593   C T   5593      |       21     5593  |    0    0  |  1  1  EM_079517\tEM_079517\r\n",
      "    5614   G A   5614      |       21     5614  |    0    0  |  1  1  EM_079517\tEM_079517\r\n",
      "    5639   C T   5639      |       11     5639  |    0    0  |  1  1  EM_079517\tEM_079517\r\n",
      "    5650   A G   5650      |       11     5650  |    0    0  |  1  1  EM_079517\tEM_079517\r\n",
      "    5672   G A   5672      |       18     5672  |    0    0  |  1  1  EM_079517\tEM_079517\r\n",
      "    5690   C T   5690      |       18     5690  |    0    0  |  1  1  EM_079517\tEM_079517\r\n",
      "    5748   C T   5748      |        5     5748  |    0    0  |  1  1  EM_079517\tEM_079517\r\n",
      "    5753   T C   5753      |        5     5753  |    0    0  |  1  1  EM_079517\tEM_079517\r\n",
      "    5792   C T   5792      |       23     5792  |    0    0  |  1  1  EM_079517\tEM_079517\r\n",
      "    5815   G A   5815      |        9     5815  |    0    0  |  1  1  EM_079517\tEM_079517\r\n",
      "    5824   G A   5824      |        9     5824  |    0    0  |  1  1  EM_079517\tEM_079517\r\n",
      "    5835   G A   5835      |       11     5835  |    0    0  |  1  1  EM_079517\tEM_079517\r\n",
      "    5846   A G   5846      |       11     5846  |    0    0  |  1  1  EM_079517\tEM_079517\r\n",
      "    5860   T C   5860      |       14     5860  |    0    0  |  1  1  EM_079517\tEM_079517\r\n",
      "    5876   T C   5876      |       16     5876  |    0    0  |  1  1  EM_079517\tEM_079517\r\n",
      "    5954   C T   5954      |       17     5954  |    0    0  |  1  1  EM_079517\tEM_079517\r\n",
      "    5971   A G   5971      |       17     5971  |    0    0  |  1  1  EM_079517\tEM_079517\r\n",
      "    5988   T C   5988      |        2     5988  |    0    0  |  1  1  EM_079517\tEM_079517\r\n",
      "    5990   G T   5990      |        1     5990  |    0    0  |  1  1  EM_079517\tEM_079517\r\n",
      "    5991   A G   5991      |        1     5991  |    0    0  |  1  1  EM_079517\tEM_079517\r\n",
      "    6004   G A   6004      |        3     6004  |    0    0  |  1  1  EM_079517\tEM_079517\r\n",
      "    6007   T C   6007      |        3     6007  |    0    0  |  1  1  EM_079517\tEM_079517\r\n",
      "    6026   A G   6026      |        4     6026  |    0    0  |  1  1  EM_079517\tEM_079517\r\n",
      "    6030   G A   6030      |        4     6030  |    0    0  |  1  1  EM_079517\tEM_079517\r\n",
      "    6044   T C   6044      |       14     6044  |    0    0  |  1  1  EM_079517\tEM_079517\r\n",
      "    6140   G A   6140      |        9     6140  |    0    0  |  1  1  EM_079517\tEM_079517\r\n",
      "    6149   T C   6149      |        9     6149  |    0    0  |  1  1  EM_079517\tEM_079517\r\n",
      "    6161   T C   6161      |       12     6161  |    0    0  |  1  1  EM_079517\tEM_079517\r\n",
      "    6251   G A   6251      |       33     6251  |    0    0  |  1  1  EM_079517\tEM_079517\r\n",
      "    6284   G A   6284      |       33     6284  |    0    0  |  1  1  EM_079517\tEM_079517\r\n",
      "    6476   A G   6476      |       24     6476  |    0    0  |  1  1  EM_079517\tEM_079517\r\n",
      "    6500   C T   6500      |       24     6500  |    0    0  |  1  1  EM_079517\tEM_079517\r\n",
      "    6719   T C   6719      |      103     6719  |    0    0  |  1  1  EM_079517\tEM_079517\r\n",
      "    6822   G A   6822      |       11     6822  |    0    0  |  1  1  EM_079517\tEM_079517\r\n",
      "    6833   G A   6833      |        9     6833  |    0    0  |  1  1  EM_079517\tEM_079517\r\n",
      "    6842   C T   6842      |        9     6842  |    0    0  |  1  1  EM_079517\tEM_079517\r\n",
      "    6909   A T   6909      |       57     6909  |    0    0  |  1  1  EM_079517\tEM_079517\r\n",
      "    6966   C T   6966      |       14     6966  |    0    0  |  1  1  EM_079517\tEM_079517\r\n",
      "    6980   C G   6980      |       14     6980  |    0    0  |  1  1  EM_079517\tEM_079517\r\n",
      "    7029   A G   7029      |       15     7029  |    0    0  |  1  1  EM_079517\tEM_079517\r\n",
      "    7044   A C   7044      |       15     7044  |    0    0  |  1  1  EM_079517\tEM_079517\r\n",
      "    7112   A G   7112      |       50     7112  |    0    0  |  1  1  EM_079517\tEM_079517\r\n",
      "    7162   T C   7162      |        4     7162  |    0    0  |  1  1  EM_079517\tEM_079517\r\n",
      "    7166   C T   7166      |        2     7166  |    0    0  |  1  1  EM_079517\tEM_079517\r\n",
      "    7168   T C   7168      |        2     7168  |    0    0  |  1  1  EM_079517\tEM_079517\r\n",
      "    7170   C T   7170      |        2     7170  |    0    0  |  1  1  EM_079517\tEM_079517\r\n",
      "    7251   G A   7251      |       13     7251  |    0    0  |  1  1  EM_079517\tEM_079517\r\n",
      "    7264   T C   7264      |        4     7264  |    0    0  |  1  1  EM_079517\tEM_079517\r\n",
      "    7268   G A   7268      |        4     7268  |    0    0  |  1  1  EM_079517\tEM_079517\r\n",
      "    7301   C T   7301      |        2     7301  |    0    0  |  1  1  EM_079517\tEM_079517\r\n",
      "    7303   C T   7303      |        2     7303  |    0    0  |  1  1  EM_079517\tEM_079517\r\n",
      "    7325   T C   7325      |        1     7325  |    0    0  |  1  1  EM_079517\tEM_079517\r\n",
      "    7326   T C   7326      |        1     7326  |    0    0  |  1  1  EM_079517\tEM_079517\r\n",
      "    7351   T C   7351      |        7     7351  |    0    0  |  1  1  EM_079517\tEM_079517\r\n",
      "    7358   G A   7358      |        7     7358  |    0    0  |  1  1  EM_079517\tEM_079517\r\n",
      "    7365   C T   7365      |        7     7365  |    0    0  |  1  1  EM_079517\tEM_079517\r\n",
      "    7374   T C   7374      |        9     7374  |    0    0  |  1  1  EM_079517\tEM_079517\r\n",
      "    7384   G A   7384      |        6     7384  |    0    0  |  1  1  EM_079517\tEM_079517\r\n",
      "    7390   C T   7390      |        6     7390  |    0    0  |  1  1  EM_079517\tEM_079517\r\n",
      "    7400   T C   7400      |       10     7400  |    0    0  |  1  1  EM_079517\tEM_079517\r\n",
      "    7411   T C   7411      |       11     7411  |    0    0  |  1  1  EM_079517\tEM_079517\r\n",
      "    7504   A C   7504      |       27     7504  |    0    0  |  1  1  EM_079517\tEM_079517\r\n",
      "    7531   G A   7531      |       14     7531  |    0    0  |  1  1  EM_079517\tEM_079517\r\n",
      "    7545   T C   7545      |       14     7545  |    0    0  |  1  1  EM_079517\tEM_079517\r\n",
      "    7576   C T   7576      |       31     7576  |    0    0  |  1  1  EM_079517\tEM_079517\r\n",
      "    7622   T C   7622      |       35     7622  |    0    0  |  1  1  EM_079517\tEM_079517\r\n",
      "    7657   A G   7657      |       30     7657  |    0    0  |  1  1  EM_079517\tEM_079517\r\n",
      "    7687   C T   7687      |       27     7687  |    0    0  |  1  1  EM_079517\tEM_079517\r\n",
      "    7714   G A   7714      |       15     7714  |    0    0  |  1  1  EM_079517\tEM_079517\r\n",
      "    7729   A G   7729      |       15     7729  |    0    0  |  1  1  EM_079517\tEM_079517\r\n",
      "    7744   C T   7744      |       15     7744  |    0    0  |  1  1  EM_079517\tEM_079517\r\n",
      "    7774   G A   7774      |        3     7774  |    0    0  |  1  1  EM_079517\tEM_079517\r\n",
      "    7777   A C   7777      |        3     7777  |    0    0  |  1  1  EM_079517\tEM_079517\r\n",
      "    7810   C T   7810      |        4     7810  |    0    0  |  1  1  EM_079517\tEM_079517\r\n",
      "    7814   C T   7814      |        4     7814  |    0    0  |  1  1  EM_079517\tEM_079517\r\n",
      "    7831   T C   7831      |       16     7831  |    0    0  |  1  1  EM_079517\tEM_079517\r\n",
      "    7847   T C   7847      |       16     7847  |    0    0  |  1  1  EM_079517\tEM_079517\r\n",
      "    8017   T C   8017      |       53     8017  |    0    0  |  1  1  EM_079517\tEM_079517\r\n",
      "    8070   C T   8070      |       14     8070  |    0    0  |  1  1  EM_079517\tEM_079517\r\n",
      "    8084   T C   8084      |        5     8084  |    0    0  |  1  1  EM_079517\tEM_079517\r\n",
      "    8089   C T   8089      |        3     8089  |    0    0  |  1  1  EM_079517\tEM_079517\r\n",
      "    8092   C A   8092      |        3     8092  |    0    0  |  1  1  EM_079517\tEM_079517\r\n",
      "    8096   A G   8096      |        4     8096  |    0    0  |  1  1  EM_079517\tEM_079517\r\n",
      "    8101   A G   8101      |        5     8101  |    0    0  |  1  1  EM_079517\tEM_079517\r\n",
      "    8119   T C   8119      |       17     8119  |    0    0  |  1  1  EM_079517\tEM_079517\r\n",
      "    8136   A G   8136      |        3     8136  |    0    0  |  1  1  EM_079517\tEM_079517\r\n",
      "    8139   C T   8139      |        3     8139  |    0    0  |  1  1  EM_079517\tEM_079517\r\n",
      "    8172   C T   8172      |       18     8172  |    0    0  |  1  1  EM_079517\tEM_079517\r\n",
      "    8190   C T   8190      |       18     8190  |    0    0  |  1  1  EM_079517\tEM_079517\r\n",
      "    8263   C T   8263      |        4     8263  |    0    0  |  1  1  EM_079517\tEM_079517\r\n",
      "    8267   A C   8267      |        4     8267  |    0    0  |  1  1  EM_079517\tEM_079517\r\n",
      "    8273   A G   8273      |        6     8273  |    0    0  |  1  1  EM_079517\tEM_079517\r\n",
      "    8328   G A   8328      |       40     8328  |    0    0  |  1  1  EM_079517\tEM_079517\r\n",
      "    8368   A G   8368      |        4     8368  |    0    0  |  1  1  EM_079517\tEM_079517\r\n",
      "    8372   A C   8372      |        3     8372  |    0    0  |  1  1  EM_079517\tEM_079517\r\n",
      "    8375   A G   8375      |        3     8375  |    0    0  |  1  1  EM_079517\tEM_079517\r\n",
      "    8381   A G   8381      |        6     8381  |    0    0  |  1  1  EM_079517\tEM_079517\r\n",
      "    8417   A G   8417      |       11     8417  |    0    0  |  1  1  EM_079517\tEM_079517\r\n",
      "    8428   A G   8428      |        9     8428  |    0    0  |  1  1  EM_079517\tEM_079517\r\n",
      "    8437   T C   8437      |        9     8437  |    0    0  |  1  1  EM_079517\tEM_079517\r\n",
      "    8451   C T   8451      |       12     8451  |    0    0  |  1  1  EM_079517\tEM_079517\r\n",
      "    8463   A C   8463      |       12     8463  |    0    0  |  1  1  EM_079517\tEM_079517\r\n",
      "    8495   C G   8495      |        9     8495  |    0    0  |  1  1  EM_079517\tEM_079517\r\n",
      "    8504   C T   8504      |        9     8504  |    0    0  |  1  1  EM_079517\tEM_079517\r\n",
      "    8538   C A   8538      |       34     8538  |    0    0  |  1  1  EM_079517\tEM_079517\r\n",
      "    8775   C T   8775      |        9     8775  |    0    0  |  1  1  EM_079517\tEM_079517\r\n",
      "    8784   A G   8784      |        3     8784  |    0    0  |  1  1  EM_079517\tEM_079517\r\n",
      "    8787   A G   8787      |        3     8787  |    0    0  |  1  1  EM_079517\tEM_079517\r\n",
      "    8986   C A   8986      |       17     8986  |    0    0  |  1  1  EM_079517\tEM_079517\r\n",
      "    9003   C A   9003      |        9     9003  |    0    0  |  1  1  EM_079517\tEM_079517\r\n",
      "    9012   G A   9012      |        9     9012  |    0    0  |  1  1  EM_079517\tEM_079517\r\n",
      "    9021   A G   9021      |        9     9021  |    0    0  |  1  1  EM_079517\tEM_079517\r\n",
      "    9243   C T   9243      |      184     9243  |    0    0  |  1  1  EM_079517\tEM_079517\r\n",
      "    9427   A G   9427      |       68     9427  |    0    0  |  1  1  EM_079517\tEM_079517\r\n",
      "    9495   A G   9495      |       10     9465  |    0    0  |  1  1  EM_079517\tEM_079517\r\n",
      "    9505   G A   9505      |        8     9455  |    0    0  |  1  1  EM_079517\tEM_079517\r\n",
      "    9513   A G   9513      |        6     9447  |    0    0  |  1  1  EM_079517\tEM_079517\r\n",
      "    9519   A G   9519      |        6     9441  |    0    0  |  1  1  EM_079517\tEM_079517\r\n",
      "    9594   C T   9594      |       60     9366  |    0    0  |  1  1  EM_079517\tEM_079517\r\n",
      "    9654   G T   9654      |       29     9306  |    0    0  |  1  1  EM_079517\tEM_079517\r\n",
      "    9683   T C   9683      |       20     9277  |    0    0  |  1  1  EM_079517\tEM_079517\r\n",
      "    9703   T C   9703      |        5     9257  |    0    0  |  1  1  EM_079517\tEM_079517\r\n",
      "    9708   T C   9708      |        5     9252  |    0    0  |  1  1  EM_079517\tEM_079517\r\n",
      "    9762   C A   9762      |       10     9198  |    0    0  |  1  1  EM_079517\tEM_079517\r\n",
      "    9772   T C   9772      |       10     9188  |    0    0  |  1  1  EM_079517\tEM_079517\r\n",
      "    9785   C G   9785      |        2     9175  |    0    0  |  1  1  EM_079517\tEM_079517\r\n",
      "    9787   A T   9787      |        2     9173  |    0    0  |  1  1  EM_079517\tEM_079517\r\n",
      "    9795   C G   9795      |        8     9165  |    0    0  |  1  1  EM_079517\tEM_079517\r\n",
      "    9851   G A   9851      |        7     9109  |    0    0  |  1  1  EM_079517\tEM_079517\r\n",
      "    9858   T G   9858      |        7     9102  |    0    0  |  1  1  EM_079517\tEM_079517\r\n",
      "    9873   A T   9873      |       15     9087  |    0    0  |  1  1  EM_079517\tEM_079517\r\n",
      "    9911   G A   9911      |       38     9049  |    0    0  |  1  1  EM_079517\tEM_079517\r\n",
      "    9973   A G   9973      |       13     8987  |    0    0  |  1  1  EM_079517\tEM_079517\r\n",
      "    9986   A G   9986      |        8     8974  |    0    0  |  1  1  EM_079517\tEM_079517\r\n",
      "    9994   G A   9994      |        1     8966  |    0    0  |  1  1  EM_079517\tEM_079517\r\n",
      "    9995   C T   9995      |        1     8965  |    0    0  |  1  1  EM_079517\tEM_079517\r\n",
      "   10001   A G   10001     |        6     8959  |    0    0  |  1  1  EM_079517\tEM_079517\r\n",
      "   10057   G A   10057     |        8     8903  |    0    0  |  1  1  EM_079517\tEM_079517\r\n",
      "   10065   G T   10065     |        8     8895  |    0    0  |  1  1  EM_079517\tEM_079517\r\n",
      "   10081   T C   10081     |       16     8879  |    0    0  |  1  1  EM_079517\tEM_079517\r\n",
      "   10125   A G   10125     |       32     8835  |    0    0  |  1  1  EM_079517\tEM_079517\r\n",
      "   10157   T A   10157     |       32     8803  |    0    0  |  1  1  EM_079517\tEM_079517\r\n",
      "   10191   C T   10191     |        1     8769  |    0    0  |  1  1  EM_079517\tEM_079517\r\n",
      "   10192   C T   10192     |        1     8768  |    0    0  |  1  1  EM_079517\tEM_079517\r\n",
      "   10208   T C   10208     |       16     8752  |    0    0  |  1  1  EM_079517\tEM_079517\r\n",
      "   10238   A G   10238     |        3     8722  |    0    0  |  1  1  EM_079517\tEM_079517\r\n",
      "   10241   G A   10241     |        3     8719  |    0    0  |  1  1  EM_079517\tEM_079517\r\n",
      "   10270   A T   10270     |       29     8690  |    0    0  |  1  1  EM_079517\tEM_079517\r\n",
      "   10307   C T   10307     |       37     8653  |    0    0  |  1  1  EM_079517\tEM_079517\r\n",
      "   10350   C T   10350     |       43     8610  |    0    0  |  1  1  EM_079517\tEM_079517\r\n",
      "   10440   T C   10440     |       12     8520  |    0    0  |  1  1  EM_079517\tEM_079517\r\n",
      "   10452   A G   10452     |        9     8508  |    0    0  |  1  1  EM_079517\tEM_079517\r\n",
      "   10461   A G   10461     |        9     8499  |    0    0  |  1  1  EM_079517\tEM_079517\r\n",
      "   10566   C T   10566     |        3     8394  |    0    0  |  1  1  EM_079517\tEM_079517\r\n",
      "   10569   A C   10569     |        3     8391  |    0    0  |  1  1  EM_079517\tEM_079517\r\n",
      "   10575   C T   10575     |        6     8385  |    0    0  |  1  1  EM_079517\tEM_079517\r\n",
      "   10602   T A   10602     |       22     8358  |    0    0  |  1  1  EM_079517\tEM_079517\r\n",
      "   10624   C T   10624     |       22     8336  |    0    0  |  1  1  EM_079517\tEM_079517\r\n",
      "   10660   T C   10660     |        2     8300  |    0    0  |  1  1  EM_079517\tEM_079517\r\n",
      "   10662   A G   10662     |        2     8298  |    0    0  |  1  1  EM_079517\tEM_079517\r\n",
      "   10863   T C   10863     |        6     8097  |    0    0  |  1  1  EM_079517\tEM_079517\r\n",
      "   10869   A G   10869     |        6     8091  |    0    0  |  1  1  EM_079517\tEM_079517\r\n",
      "   10979   A T   10979     |       64     7981  |    0    0  |  1  1  EM_079517\tEM_079517\r\n",
      "   11043   G A   11043     |       24     7917  |    0    0  |  1  1  EM_079517\tEM_079517\r\n",
      "   11067   A G   11067     |       12     7893  |    0    0  |  1  1  EM_079517\tEM_079517\r\n",
      "   11079   C T   11079     |       12     7881  |    0    0  |  1  1  EM_079517\tEM_079517\r\n",
      "   11106   A G   11106     |        2     7854  |    0    0  |  1  1  EM_079517\tEM_079517\r\n",
      "   11108   G A   11108     |        2     7852  |    0    0  |  1  1  EM_079517\tEM_079517\r\n",
      "   11124   G A   11124     |       16     7836  |    0    0  |  1  1  EM_079517\tEM_079517\r\n",
      "   11155   A T   11155     |       15     7805  |    0    0  |  1  1  EM_079517\tEM_079517\r\n",
      "   11170   C T   11170     |       15     7790  |    0    0  |  1  1  EM_079517\tEM_079517\r\n",
      "   11308   T C   11308     |       42     7652  |    0    0  |  1  1  EM_079517\tEM_079517\r\n",
      "   11350   T G   11350     |       18     7610  |    0    0  |  1  1  EM_079517\tEM_079517\r\n",
      "   11368   T C   11368     |        9     7592  |    0    0  |  1  1  EM_079517\tEM_079517\r\n",
      "   11377   A T   11377     |        7     7583  |    0    0  |  1  1  EM_079517\tEM_079517\r\n",
      "   11384   G T   11384     |        7     7576  |    0    0  |  1  1  EM_079517\tEM_079517\r\n",
      "   11403   A G   11403     |       19     7557  |    0    0  |  1  1  EM_079517\tEM_079517\r\n",
      "   11435   A G   11435     |        4     7525  |    0    0  |  1  1  EM_079517\tEM_079517\r\n",
      "   11439   A C   11439     |        4     7521  |    0    0  |  1  1  EM_079517\tEM_079517\r\n",
      "   11456   C T   11456     |       11     7504  |    0    0  |  1  1  EM_079517\tEM_079517\r\n",
      "   11467   C T   11467     |       11     7493  |    0    0  |  1  1  EM_079517\tEM_079517\r\n",
      "   11485   G A   11485     |       14     7475  |    0    0  |  1  1  EM_079517\tEM_079517\r\n",
      "   11499   T C   11499     |       14     7461  |    0    0  |  1  1  EM_079517\tEM_079517\r\n",
      "   11560   C A   11560     |       53     7400  |    0    0  |  1  1  EM_079517\tEM_079517\r\n",
      "   11613   C T   11613     |       39     7347  |    0    0  |  1  1  EM_079517\tEM_079517\r\n",
      "   11652   T A   11652     |       21     7308  |    0    0  |  1  1  EM_079517\tEM_079517\r\n",
      "   11673   G A   11673     |       21     7287  |    0    0  |  1  1  EM_079517\tEM_079517\r\n",
      "   11730   A C   11730     |        9     7230  |    0    0  |  1  1  EM_079517\tEM_079517\r\n",
      "   11739   A G   11739     |        6     7221  |    0    0  |  1  1  EM_079517\tEM_079517\r\n",
      "   11745   T C   11745     |        6     7215  |    0    0  |  1  1  EM_079517\tEM_079517\r\n",
      "   11769   A G   11769     |       24     7191  |    0    0  |  1  1  EM_079517\tEM_079517\r\n",
      "   11815   A G   11815     |       17     7145  |    0    0  |  1  1  EM_079517\tEM_079517\r\n",
      "   11832   A G   11832     |       12     7128  |    0    0  |  1  1  EM_079517\tEM_079517\r\n",
      "   11844   G A   11844     |       12     7116  |    0    0  |  1  1  EM_079517\tEM_079517\r\n",
      "   11889   T C   11889     |       45     7071  |    0    0  |  1  1  EM_079517\tEM_079517\r\n",
      "   11970   C A   11970     |       12     6990  |    0    0  |  1  1  EM_079517\tEM_079517\r\n",
      "   11982   A G   11982     |       12     6978  |    0    0  |  1  1  EM_079517\tEM_079517\r\n",
      "   12042   C T   12042     |       54     6918  |    0    0  |  1  1  EM_079517\tEM_079517\r\n",
      "   12096   G A   12096     |       54     6864  |    0    0  |  1  1  EM_079517\tEM_079517\r\n",
      "   12169   C A   12169     |       44     6791  |    0    0  |  1  1  EM_079517\tEM_079517\r\n",
      "   12213   T C   12213     |       10     6747  |    0    0  |  1  1  EM_079517\tEM_079517\r\n",
      "   12223   A G   12223     |       10     6737  |    0    0  |  1  1  EM_079517\tEM_079517\r\n",
      "   12285   T C   12285     |       62     6675  |    0    0  |  1  1  EM_079517\tEM_079517\r\n",
      "   12462   C T   12462     |        9     6498  |    0    0  |  1  1  EM_079517\tEM_079517\r\n",
      "   12471   T C   12471     |        9     6489  |    0    0  |  1  1  EM_079517\tEM_079517\r\n",
      "   12492   T C   12492     |       12     6468  |    0    0  |  1  1  EM_079517\tEM_079517\r\n",
      "   12504   G A   12504     |       12     6456  |    0    0  |  1  1  EM_079517\tEM_079517\r\n",
      "   12519   C T   12519     |       15     6441  |    0    0  |  1  1  EM_079517\tEM_079517\r\n",
      "   12573   G A   12573     |       18     6387  |    0    0  |  1  1  EM_079517\tEM_079517\r\n",
      "   12591   A G   12591     |       18     6369  |    0    0  |  1  1  EM_079517\tEM_079517\r\n",
      "   12618   C A   12618     |       27     6342  |    0    0  |  1  1  EM_079517\tEM_079517\r\n",
      "   12693   A T   12693     |       75     6267  |    0    0  |  1  1  EM_079517\tEM_079517\r\n",
      "   12786   C A   12786     |       18     6174  |    0    0  |  1  1  EM_079517\tEM_079517\r\n",
      "   12804   T C   12804     |       18     6156  |    0    0  |  1  1  EM_079517\tEM_079517\r\n",
      "   12822   C T   12822     |        6     6138  |    0    0  |  1  1  EM_079517\tEM_079517\r\n",
      "   12828   A C   12828     |        6     6132  |    0    0  |  1  1  EM_079517\tEM_079517\r\n",
      "   13503   G A   13503     |      126     5457  |    0    0  |  1  1  EM_079517\tEM_079517\r\n",
      "   13629   G A   13629     |       18     5331  |    0    0  |  1  1  EM_079517\tEM_079517\r\n",
      "   13647   A G   13647     |        7     5313  |    0    0  |  1  1  EM_079517\tEM_079517\r\n",
      "   13654   A G   13654     |        7     5306  |    0    0  |  1  1  EM_079517\tEM_079517\r\n",
      "   13665   T C   13665     |       11     5295  |    0    0  |  1  1  EM_079517\tEM_079517\r\n",
      "   13821   C T   13821     |       30     5139  |    0    0  |  1  1  EM_079517\tEM_079517\r\n",
      "   13851   T C   13851     |       27     5109  |    0    0  |  1  1  EM_079517\tEM_079517\r\n",
      "   13878   G A   13878     |       27     5082  |    0    0  |  1  1  EM_079517\tEM_079517\r\n",
      "   14103   T C   14103     |       51     4857  |    0    0  |  1  1  EM_079517\tEM_079517\r\n",
      "   14154   A G   14154     |       24     4806  |    0    0  |  1  1  EM_079517\tEM_079517\r\n",
      "   14178   C T   14178     |       24     4782  |    0    0  |  1  1  EM_079517\tEM_079517\r\n",
      "   14208   C T   14208     |        6     4752  |    0    0  |  1  1  EM_079517\tEM_079517\r\n",
      "   14214   A G   14214     |        3     4746  |    0    0  |  1  1  EM_079517\tEM_079517\r\n",
      "   14217   T C   14217     |        3     4743  |    0    0  |  1  1  EM_079517\tEM_079517\r\n",
      "   14376   T C   14376     |      126     4584  |    0    0  |  1  1  EM_079517\tEM_079517\r\n",
      "   14502   T C   14502     |       45     4458  |    0    0  |  1  1  EM_079517\tEM_079517\r\n",
      "   14547   T C   14547     |        6     4413  |    0    0  |  1  1  EM_079517\tEM_079517\r\n",
      "   14553   T C   14553     |        6     4407  |    0    0  |  1  1  EM_079517\tEM_079517\r\n",
      "   14601   A G   14601     |       33     4359  |    0    0  |  1  1  EM_079517\tEM_079517\r\n",
      "   14634   G A   14634     |        6     4326  |    0    0  |  1  1  EM_079517\tEM_079517\r\n",
      "   14640   C A   14640     |        6     4320  |    0    0  |  1  1  EM_079517\tEM_079517\r\n",
      "   14670   C T   14670     |        3     4290  |    0    0  |  1  1  EM_079517\tEM_079517\r\n",
      "   14673   A G   14673     |        3     4287  |    0    0  |  1  1  EM_079517\tEM_079517\r\n",
      "   14682   A C   14682     |        9     4278  |    0    0  |  1  1  EM_079517\tEM_079517\r\n",
      "   14728   T C   14728     |       46     4232  |    0    0  |  1  1  EM_079517\tEM_079517\r\n",
      "   14808   G A   14808     |       21     4152  |    0    0  |  1  1  EM_079517\tEM_079517\r\n",
      "   14829   T C   14829     |       21     4131  |    0    0  |  1  1  EM_079517\tEM_079517\r\n",
      "   14916   C T   14916     |       21     4044  |    0    0  |  1  1  EM_079517\tEM_079517\r\n",
      "   14937   A T   14937     |       15     4023  |    0    0  |  1  1  EM_079517\tEM_079517\r\n",
      "   14952   G A   14952     |       15     4008  |    0    0  |  1  1  EM_079517\tEM_079517\r\n",
      "   15004   G T   15004     |       44     3956  |    0    0  |  1  1  EM_079517\tEM_079517\r\n",
      "   15048   C A   15048     |        9     3912  |    0    0  |  1  1  EM_079517\tEM_079517\r\n",
      "   15057   T A   15057     |        9     3903  |    0    0  |  1  1  EM_079517\tEM_079517\r\n",
      "   15081   A G   15081     |       24     3879  |    0    0  |  1  1  EM_079517\tEM_079517\r\n",
      "   15114   A G   15114     |        3     3846  |    0    0  |  1  1  EM_079517\tEM_079517\r\n",
      "   15117   T C   15117     |        3     3843  |    0    0  |  1  1  EM_079517\tEM_079517\r\n",
      "   15189   G A   15189     |       72     3771  |    0    0  |  1  1  EM_079517\tEM_079517\r\n",
      "   15372   G A   15372     |       15     3588  |    0    0  |  1  1  EM_079517\tEM_079517\r\n",
      "   15387   T C   15387     |       15     3573  |    0    0  |  1  1  EM_079517\tEM_079517\r\n",
      "   15441   C T   15441     |       54     3519  |    0    0  |  1  1  EM_079517\tEM_079517\r\n",
      "   15501   A G   15501     |        3     3459  |    0    0  |  1  1  EM_079517\tEM_079517\r\n",
      "   15504   G T   15504     |        3     3456  |    0    0  |  1  1  EM_079517\tEM_079517\r\n",
      "   15600   G A   15600     |       45     3360  |    0    0  |  1  1  EM_079517\tEM_079517\r\n",
      "   15645   G A   15645     |       45     3315  |    0    0  |  1  1  EM_079517\tEM_079517\r\n",
      "   15728   A G   15728     |       40     3232  |    0    0  |  1  1  EM_079517\tEM_079517\r\n",
      "   15768   T C   15768     |        6     3192  |    0    0  |  1  1  EM_079517\tEM_079517\r\n",
      "   15774   C T   15774     |        6     3186  |    0    0  |  1  1  EM_079517\tEM_079517\r\n",
      "   15789   C T   15789     |        5     3171  |    0    0  |  1  1  EM_079517\tEM_079517\r\n",
      "   15794   A G   15794     |        5     3166  |    0    0  |  1  1  EM_079517\tEM_079517\r\n",
      "   15816   C T   15816     |       22     3144  |    0    0  |  1  1  EM_079517\tEM_079517\r\n",
      "   15855   T C   15855     |       36     3105  |    0    0  |  1  1  EM_079517\tEM_079517\r\n",
      "   15891   T C   15891     |        6     3069  |    0    0  |  1  1  EM_079517\tEM_079517\r\n",
      "   15897   G A   15897     |        6     3063  |    0    0  |  1  1  EM_079517\tEM_079517\r\n",
      "   16071   C T   16071     |       93     2889  |    0    0  |  1  1  EM_079517\tEM_079517\r\n",
      "   16164   C T   16164     |       93     2796  |    0    0  |  1  1  EM_079517\tEM_079517\r\n",
      "   16269   G A   16269     |       51     2691  |    0    0  |  1  1  EM_079517\tEM_079517\r\n",
      "   16320   A G   16320     |        1     2640  |    0    0  |  1  1  EM_079517\tEM_079517\r\n",
      "   16321   T C   16321     |        1     2639  |    0    0  |  1  1  EM_079517\tEM_079517\r\n",
      "   16335   T C   16335     |       12     2625  |    0    0  |  1  1  EM_079517\tEM_079517\r\n",
      "   16347   T G   16347     |        9     2613  |    0    0  |  1  1  EM_079517\tEM_079517\r\n",
      "   16356   C T   16356     |        4     2604  |    0    0  |  1  1  EM_079517\tEM_079517\r\n",
      "   16360   C T   16360     |        4     2600  |    0    0  |  1  1  EM_079517\tEM_079517\r\n",
      "   16401   C A   16401     |       23     2559  |    0    0  |  1  1  EM_079517\tEM_079517\r\n",
      "   16424   A G   16424     |       23     2536  |    0    0  |  1  1  EM_079517\tEM_079517\r\n",
      "   16494   G A   16494     |       24     2466  |    0    0  |  1  1  EM_079517\tEM_079517\r\n",
      "   16518   G A   16518     |       22     2442  |    0    0  |  1  1  EM_079517\tEM_079517\r\n",
      "   16540   G T   16540     |        6     2420  |    0    0  |  1  1  EM_079517\tEM_079517\r\n",
      "   16546   A G   16546     |        6     2414  |    0    0  |  1  1  EM_079517\tEM_079517\r\n",
      "   16552   A G   16552     |        6     2408  |    0    0  |  1  1  EM_079517\tEM_079517\r\n",
      "   16597   A G   16597     |       45     2363  |    0    0  |  1  1  EM_079517\tEM_079517\r\n",
      "   16649   G A   16649     |       10     2311  |    0    0  |  1  1  EM_079517\tEM_079517\r\n",
      "   16659   G A   16659     |       10     2301  |    0    0  |  1  1  EM_079517\tEM_079517\r\n",
      "   16701   G A   16701     |       30     2259  |    0    0  |  1  1  EM_079517\tEM_079517\r\n",
      "   16731   A C   16731     |       21     2229  |    0    0  |  1  1  EM_079517\tEM_079517\r\n",
      "   16752   C T   16752     |       12     2208  |    0    0  |  1  1  EM_079517\tEM_079517\r\n",
      "   16764   C T   16764     |       12     2196  |    0    0  |  1  1  EM_079517\tEM_079517\r\n",
      "   16783   A C   16783     |       19     2177  |    0    0  |  1  1  EM_079517\tEM_079517\r\n",
      "   16805   C T   16805     |       16     2155  |    0    0  |  1  1  EM_079517\tEM_079517\r\n",
      "   16821   A G   16821     |       16     2139  |    0    0  |  1  1  EM_079517\tEM_079517\r\n",
      "   16857   T C   16857     |       36     2103  |    0    0  |  1  1  EM_079517\tEM_079517\r\n",
      "   16935   T C   16935     |       60     2025  |    0    0  |  1  1  EM_079517\tEM_079517\r\n",
      "   16995   G A   16995     |       60     1965  |    0    0  |  1  1  EM_079517\tEM_079517\r\n",
      "   17057   A G   17057     |        4     1903  |    0    0  |  1  1  EM_079517\tEM_079517\r\n",
      "   17061   T C   17061     |        4     1899  |    0    0  |  1  1  EM_079517\tEM_079517\r\n",
      "   17079   G A   17079     |       18     1881  |    0    0  |  1  1  EM_079517\tEM_079517\r\n",
      "   17336   G A   17336     |       34     1624  |    0    0  |  1  1  EM_079517\tEM_079517\r\n",
      "   17370   G A   17370     |       34     1590  |    0    0  |  1  1  EM_079517\tEM_079517\r\n",
      "   17410   C T   17410     |       21     1550  |    0    0  |  1  1  EM_079517\tEM_079517\r\n",
      "   17431   G A   17431     |        8     1529  |    0    0  |  1  1  EM_079517\tEM_079517\r\n",
      "   17439   C T   17439     |        8     1521  |    0    0  |  1  1  EM_079517\tEM_079517\r\n",
      "   17484   C T   17484     |       28     1476  |    0    0  |  1  1  EM_079517\tEM_079517\r\n",
      "   17512   C T   17512     |       23     1448  |    0    0  |  1  1  EM_079517\tEM_079517\r\n",
      "   17535   G T   17535     |       23     1425  |    0    0  |  1  1  EM_079517\tEM_079517\r\n",
      "   17565   C T   17565     |        3     1395  |    0    0  |  1  1  EM_079517\tEM_079517\r\n",
      "   17568   G A   17568     |        3     1392  |    0    0  |  1  1  EM_079517\tEM_079517\r\n",
      "   17649   G A   17649     |       39     1311  |    0    0  |  1  1  EM_079517\tEM_079517\r\n",
      "   17688   G A   17688     |       39     1272  |    0    0  |  1  1  EM_079517\tEM_079517\r\n",
      "   17730   C T   17730     |        3     1230  |    0    0  |  1  1  EM_079517\tEM_079517\r\n",
      "   17733   T G   17733     |        3     1227  |    0    0  |  1  1  EM_079517\tEM_079517\r\n",
      "   17745   C T   17745     |       12     1215  |    0    0  |  1  1  EM_079517\tEM_079517\r\n",
      "   17802   T C   17802     |       31     1158  |    0    0  |  1  1  EM_079517\tEM_079517\r\n",
      "   17833   G A   17833     |       26     1127  |    0    0  |  1  1  EM_079517\tEM_079517\r\n",
      "   17859   G A   17859     |       18     1101  |    0    0  |  1  1  EM_079517\tEM_079517\r\n",
      "   17877   G A   17877     |        3     1083  |    0    0  |  1  1  EM_079517\tEM_079517\r\n",
      "   17880   C T   17880     |        3     1080  |    0    0  |  1  1  EM_079517\tEM_079517\r\n",
      "   17994   A G   17994     |      114      966  |    0    0  |  1  1  EM_079517\tEM_079517\r\n",
      "   18195   A G   18195     |       18      765  |    0    0  |  1  1  EM_079517\tEM_079517\r\n",
      "   18213   C T   18213     |        9      747  |    0    0  |  1  1  EM_079517\tEM_079517\r\n",
      "   18222   A T   18222     |        9      738  |    0    0  |  1  1  EM_079517\tEM_079517\r\n",
      "   18237   T C   18237     |        1      723  |    0    0  |  1  1  EM_079517\tEM_079517\r\n",
      "   18238   T C   18238     |        1      722  |    0    0  |  1  1  EM_079517\tEM_079517\r\n",
      "   18248   T C   18248     |       10      712  |    0    0  |  1  1  EM_079517\tEM_079517\r\n",
      "   18262   C T   18262     |       14      698  |    0    0  |  1  1  EM_079517\tEM_079517\r\n",
      "   18308   C A   18308     |        8      652  |    0    0  |  1  1  EM_079517\tEM_079517\r\n",
      "   18316   G A   18316     |        3      644  |    0    0  |  1  1  EM_079517\tEM_079517\r\n",
      "   18319   T C   18319     |        3      641  |    0    0  |  1  1  EM_079517\tEM_079517\r\n",
      "   18328   T C   18328     |        9      632  |    0    0  |  1  1  EM_079517\tEM_079517\r\n",
      "   18338   G A   18338     |       10      622  |    0    0  |  1  1  EM_079517\tEM_079517\r\n",
      "   18355   T C   18355     |        3      605  |    0    0  |  1  1  EM_079517\tEM_079517\r\n",
      "   18358   C T   18358     |        3      602  |    0    0  |  1  1  EM_079517\tEM_079517\r\n",
      "   18365   C T   18365     |        7      595  |    0    0  |  1  1  EM_079517\tEM_079517\r\n",
      "   18375   G A   18375     |       10      585  |    0    0  |  1  1  EM_079517\tEM_079517\r\n",
      "   18413   A G   18413     |       24      547  |    0    0  |  1  1  EM_079517\tEM_079517\r\n",
      "   18437   T C   18437     |        8      523  |    0    0  |  1  1  EM_079517\tEM_079517\r\n",
      "   18445   G A   18445     |        2      515  |    0    0  |  1  1  EM_079517\tEM_079517\r\n",
      "   18447   C T   18447     |        2      513  |    0    0  |  1  1  EM_079517\tEM_079517\r\n",
      "   18468   C T   18468     |       21      492  |    0    0  |  1  1  EM_079517\tEM_079517\r\n",
      "   18496   T A   18496     |       28      464  |    0    0  |  1  1  EM_079517\tEM_079517\r\n",
      "   18526   G A   18526     |       19      434  |    0    0  |  1  1  EM_079517\tEM_079517\r\n",
      "   18545   T C   18545     |        3      415  |    0    0  |  1  1  EM_079517\tEM_079517\r\n",
      "   18548   C T   18548     |        3      412  |    0    0  |  1  1  EM_079517\tEM_079517\r\n"
     ]
    }
   ],
   "source": [
    "!../bin/MUMmer3.23/show-snps -H out.delta"
   ]
  },
  {
   "cell_type": "code",
   "execution_count": 10,
   "metadata": {
    "collapsed": false
   },
   "outputs": [
    {
     "name": "stdout",
     "output_type": "stream",
     "text": [
      "align_defaultkmer_margin_groups.sh  EM_079517 EBOV_amplicons_421 EBOV_amplicons_421 EBOV_amplicons_421_hq na hq 001\n",
      "align_defaultkmer_margin_groups.sh  EM_079517_mut30_2 EBOV_amplicons_421 EBOV_amplicons_421 EBOV_amplicons_421_hq na hq 001\n"
     ]
    }
   ],
   "source": [
    "%%bash\n",
    "\n",
    "ROOTDIR=\"/mnt/ebola/ebov\"\n",
    "cd $ROOTDIR\n",
    "export PATH=`pwd`/bin/bwa:$PATH\n",
    "export PATH=$PATH:`pwd`/scripts\n",
    "export PATH=$PATH:`pwd`/bin/nanopolish-6mer\n",
    "export PATH=$PATH:`pwd`/bin/samtools\n",
    "export PATH=$PATH:`pwd`/bin/marginAlign\n",
    "\n",
    "mkdir -p dstl\n",
    "cd dstl\n",
    "\n",
    "echo \"../models/6mer/ont_complement.pop1.model\" > offset_models.fofn\n",
    "echo \"../models/6mer/ont_complement.pop2.model\" >> offset_models.fofn\n",
    "echo \"../models/6mer/ont_template.model\" >> offset_models.fofn\n",
    "\n",
    "makecommands.py ../metadata/metadata.db DSTL-Validation align_defaultkmer_margin_groups.sh 001 "
   ]
  },
  {
   "cell_type": "code",
   "execution_count": 24,
   "metadata": {
    "collapsed": false
   },
   "outputs": [
    {
     "name": "stdout",
     "output_type": "stream",
     "text": [
      "[Errno 2] No such file or directory: '180genomes-validation'\n",
      "/mnt/ebola/ebov/180genomes-validation\n"
     ]
    }
   ],
   "source": [
    "## After the raw files are produced, show statistics.\n",
    "\n",
    "%cd 180genomes-validation"
   ]
  },
  {
   "cell_type": "code",
   "execution_count": 13,
   "metadata": {
    "collapsed": true
   },
   "outputs": [],
   "source": [
    "fh = open(\"validation_files.txt\", \"w\")\n",
    "fh.write(\"\"\"076534_180Genomes_11rx\tnp-var6mer-aln5mer\t../refs/EM_079517_EM_076534.mutations.txt\tnp_EM_079517_076534_180Genomes_11rx_hq.vcf\n",
    "076533_180Genomes_11rx\tnp-var6mer-aln5mer\t../refs/EM_079517_EM_076533.mutations.txt\tnp_EM_079517_076533_180Genomes_11rx_hq.vcf\n",
    "076383_180Genomes_11rx\tnp-var6mer-aln5mer\t../refs/EM_079517_EM_076383.mutations.txt\tnp_EM_079517_076383_180Genomes_11rx_hq.vcf\n",
    "078416_180Genomes_11rx\tnp-var6mer-aln5mer\t../refs/EM_079517_EM_078416.mutations.txt\tnp_EM_079517_078416_180Genomes_11rx_hq.vcf\n",
    "076769_180Genomes_19Rx\tnp-var6mer-aln5mer\t../refs/EM_079517_EM_076769.mutations.txt\tnp_EM_079517_076769_180Genomes_19Rx_hq.vcf\n",
    "\"\"\")\n",
    "fh.close()"
   ]
  },
  {
   "cell_type": "code",
   "execution_count": null,
   "metadata": {
    "collapsed": false
   },
   "outputs": [],
   "source": [
    "!../scripts/intersection_vcf_stats.py validation_files.txt | cut -f 1,2,5,6,7,8,9,10 | column -t "
   ]
  },
  {
   "cell_type": "code",
   "execution_count": 15,
   "metadata": {
    "collapsed": true
   },
   "outputs": [],
   "source": [
    "!../scripts/intersection_vcf_interrogate.py validation_files.txt > validation_stats.txt"
   ]
  },
  {
   "cell_type": "code",
   "execution_count": 16,
   "metadata": {
    "collapsed": false
   },
   "outputs": [
    {
     "name": "stdout",
     "output_type": "stream",
     "text": [
      "tag\tpos\tbasecalledfreq\tsupportfraction\tsupportingreads\tqual\tstate\r\n",
      "np-var6mer-aln5mer\t213\t0.748166\t0.911469\t906\t4797.7\tReal\r\n",
      "np-var6mer-aln5mer\t800\t0.895735\t0.929348\t513\t3189.4\tReal\r\n",
      "np-var6mer-aln5mer\t1849\t0.684444\t0.73503\t491\t3453.2\tReal\r\n",
      "np-var6mer-aln5mer\t2124\t0.847645\t0.892068\t686\t5673.5\tReal\r\n",
      "np-var6mer-aln5mer\t6283\t0.730769\t0.9375\t60\t296.7\tReal\r\n",
      "np-var6mer-aln5mer\t6909\t0.882812\t0.952555\t261\t2143.7\tReal\r\n",
      "np-var6mer-aln5mer\t8928\t0.647059\t0.875587\t373\t1413.6\tReal\r\n",
      "np-var6mer-aln5mer\t11204\t0.846405\t0.941456\t595\t4667.5\tReal\r\n",
      "np-var6mer-aln5mer\t12208\t0.874074\t0.865152\t571\t4013.5\tReal\r\n"
     ]
    }
   ],
   "source": [
    "!head -10 validation_stats.txt"
   ]
  },
  {
   "cell_type": "code",
   "execution_count": 17,
   "metadata": {
    "collapsed": false
   },
   "outputs": [
    {
     "name": "stderr",
     "output_type": "stream",
     "text": [
      "/mnt/ebola/ebov/venv/local/lib/python2.7/site-packages/rpy2/ipython/rmagic.py:68: UserWarning: The Python package 'pandas' is stronglyrecommended when using `rpy2.ipython`. Unfortunately it could not be loaded, but at least we found 'numpy'.\n",
      "  \"but at least we found 'numpy'.\")))\n"
     ]
    }
   ],
   "source": [
    "%load_ext rpy2.ipython"
   ]
  },
  {
   "cell_type": "code",
   "execution_count": 18,
   "metadata": {
    "collapsed": false
   },
   "outputs": [
    {
     "name": "stderr",
     "output_type": "stream",
     "text": [
      "/mnt/ebola/ebov/venv/local/lib/python2.7/site-packages/rpy2/robjects/functions.py:106: UserWarning: stat_bin: binwidth defaulted to range/30. Use 'binwidth = x' to adjust this.\n",
      "\n",
      "  res = super(Function, self).__call__(*new_args, **new_kwargs)\n"
     ]
    },
    {
     "data": {
      "image/png": "[encoded data removed]"
     },
     "metadata": {},
     "output_type": "display_data"
    }
   ],
   "source": [
    "%%R\n",
    "\n",
    "library(ggplot2)\n",
    "\n",
    "stats=read.table(\"validation_stats.txt\", header=T)\n",
    "ggplot(stats, aes(x=supportfraction, fill=state)) + geom_histogram() + facet_wrap(~tag)"
   ]
  },
  {
   "cell_type": "markdown",
   "metadata": {},
   "source": [
    "## Remove low depth positions from plot (depth >= 30)"
   ]
  },
  {
   "cell_type": "code",
   "execution_count": 19,
   "metadata": {
    "collapsed": false
   },
   "outputs": [
    {
     "data": {
      "image/png": "[encoded data removed]"
     },
     "metadata": {},
     "output_type": "display_data"
    }
   ],
   "source": [
    "%%R\n",
    "\n",
    "library(ggplot2)\n",
    "\n",
    "stats=read.table(\"validation_stats.txt\", header=T)\n",
    "ggplot(subset(stats, supportingreads>50), aes(x=supportfraction, fill=state)) + geom_histogram(breaks=c()) + facet_wrap(~tag)"
   ]
  },
  {
   "cell_type": "code",
   "execution_count": 21,
   "metadata": {
    "collapsed": false
   },
   "outputs": [
    {
     "data": {
      "image/png": "[encoded data removed]"
     },
     "metadata": {},
     "output_type": "display_data"
    }
   ],
   "source": [
    "%%R\n",
    "\n",
    "library(ggplot2)\n",
    "\n",
    "stats=read.table(\"validation_stats.txt\", header=T)\n",
    "ggplot(subset(stats, supportingreads>50), aes(x=qual, fill=state)) + geom_histogram(breaks=c()) + xlim(0,2000) + facet_wrap(~tag)"
   ]
  },
  {
   "cell_type": "markdown",
   "metadata": {
    "collapsed": true
   },
   "source": [
    "## Filter the files as per the study (depth > 30, support fraction > 0.70%, primer sequences masked)"
   ]
  },
  {
   "cell_type": "code",
   "execution_count": 22,
   "metadata": {
    "collapsed": false
   },
   "outputs": [
    {
     "name": "stdout",
     "output_type": "stream",
     "text": [
      "+ ref_prefix=EM_079517\n",
      "+ sample=076534_180Genomes_11rx\n",
      "+ poretools_dir=076534_180Genomes_11rx\n",
      "+ sample_tag=076534_180Genomes_11rx_hq\n",
      "+ second_batch=na\n",
      "+ vcftagprimersites.py all np_EM_079517_076534_180Genomes_11rx_hq.vcf\n",
      "+ vcffilter.py 076534_180Genomes_11rx_hq_EM_079517_np_primer.tagged.vcf\n",
      "Output 14 records\n",
      "+ vcffilterqual.py 076534_180Genomes_11rx_hq_EM_079517_np_primer.tagged.vcf\n",
      "Output 14 records\n",
      "+ ref_prefix=EM_079517\n",
      "+ sample=076383_180Genomes_11rx\n",
      "+ poretools_dir=076383_180Genomes_11rx\n",
      "+ sample_tag=076383_180Genomes_11rx_hq\n",
      "+ second_batch=na\n",
      "+ vcftagprimersites.py all np_EM_079517_076383_180Genomes_11rx_hq.vcf\n",
      "+ vcffilter.py 076383_180Genomes_11rx_hq_EM_079517_np_primer.tagged.vcf\n",
      "Filtering Record(CHROM=EM_079517, POS=40, REF=G, ALT=[T])\n",
      "Output 16 records\n",
      "+ vcffilterqual.py 076383_180Genomes_11rx_hq_EM_079517_np_primer.tagged.vcf\n",
      "Filtering Record(CHROM=EM_079517, POS=40, REF=G, ALT=[T])\n",
      "Output 16 records\n",
      "+ ref_prefix=EM_079517\n",
      "+ sample=076769_180Genomes_19Rx\n",
      "+ poretools_dir=076769_180Genomes_19Rx\n",
      "+ sample_tag=076769_180Genomes_19Rx_hq\n",
      "+ second_batch=na\n",
      "+ vcftagprimersites.py all np_EM_079517_076769_180Genomes_19Rx_hq.vcf\n",
      "+ vcffilter.py 076769_180Genomes_19Rx_hq_EM_079517_np_primer.tagged.vcf\n",
      "Filtering Record(CHROM=EM_079517, POS=3447, REF=T, ALT=[C])\n",
      "Output 18 records\n",
      "+ vcffilterqual.py 076769_180Genomes_19Rx_hq_EM_079517_np_primer.tagged.vcf\n",
      "Output 19 records\n",
      "+ ref_prefix=EM_079517_mut30_2\n",
      "+ sample=076534_180Genomes_11rx\n",
      "+ poretools_dir=076534_180Genomes_11rx\n",
      "+ sample_tag=076534_180Genomes_11rx_hq\n",
      "+ second_batch=na\n",
      "+ vcftagprimersites.py all np_EM_079517_mut30_2_076534_180Genomes_11rx_hq.vcf\n",
      "+ vcffilter.py 076534_180Genomes_11rx_hq_EM_079517_mut30_2_np_primer.tagged.vcf\n",
      "Output 38 records\n",
      "+ vcffilterqual.py 076534_180Genomes_11rx_hq_EM_079517_mut30_2_np_primer.tagged.vcf\n",
      "Output 38 records\n",
      "+ ref_prefix=EM_079517\n",
      "+ sample=076533_180Genomes_11rx\n",
      "+ poretools_dir=076533_180Genomes_11rx\n",
      "+ sample_tag=076533_180Genomes_11rx_hq\n",
      "+ second_batch=na\n",
      "+ vcftagprimersites.py all np_EM_079517_076533_180Genomes_11rx_hq.vcf\n",
      "+ vcffilter.py 076533_180Genomes_11rx_hq_EM_079517_np_primer.tagged.vcf\n",
      "Output 20 records\n",
      "+ vcffilterqual.py 076533_180Genomes_11rx_hq_EM_079517_np_primer.tagged.vcf\n",
      "Filtering Record(CHROM=EM_079517, POS=40, REF=G, ALT=[T])\n",
      "Output 19 records\n",
      "+ ref_prefix=EM_079517_mut30_2\n",
      "+ sample=076533_180Genomes_11rx\n",
      "+ poretools_dir=076533_180Genomes_11rx\n",
      "+ sample_tag=076533_180Genomes_11rx_hq\n",
      "+ second_batch=na\n",
      "+ vcftagprimersites.py all np_EM_079517_mut30_2_076533_180Genomes_11rx_hq.vcf\n",
      "+ vcffilter.py 076533_180Genomes_11rx_hq_EM_079517_mut30_2_np_primer.tagged.vcf\n",
      "Output 50 records\n",
      "+ vcffilterqual.py 076533_180Genomes_11rx_hq_EM_079517_mut30_2_np_primer.tagged.vcf\n",
      "Filtering Record(CHROM=EM_079517, POS=40, REF=G, ALT=[T])\n",
      "Output 49 records\n",
      "+ ref_prefix=EM_079517_mut30_2\n",
      "+ sample=076383_180Genomes_11rx\n",
      "+ poretools_dir=076383_180Genomes_11rx\n",
      "+ sample_tag=076383_180Genomes_11rx_hq\n",
      "+ second_batch=na\n",
      "+ vcftagprimersites.py all np_EM_079517_mut30_2_076383_180Genomes_11rx_hq.vcf\n",
      "+ vcffilter.py 076383_180Genomes_11rx_hq_EM_079517_mut30_2_np_primer.tagged.vcf\n",
      "Filtering Record(CHROM=EM_079517, POS=40, REF=G, ALT=[T])\n",
      "Output 46 records\n",
      "+ vcffilterqual.py 076383_180Genomes_11rx_hq_EM_079517_mut30_2_np_primer.tagged.vcf\n",
      "Filtering Record(CHROM=EM_079517, POS=40, REF=G, ALT=[T])\n",
      "Output 46 records\n",
      "+ ref_prefix=EM_079517\n",
      "+ sample=078416_180Genomes_11rx\n",
      "+ poretools_dir=078416_180Genomes_11rx\n",
      "+ sample_tag=078416_180Genomes_11rx_hq\n",
      "+ second_batch=na\n",
      "+ vcftagprimersites.py all np_EM_079517_078416_180Genomes_11rx_hq.vcf\n",
      "+ vcffilter.py 078416_180Genomes_11rx_hq_EM_079517_np_primer.tagged.vcf\n",
      "Filtering Record(CHROM=EM_079517, POS=2282, REF=G, ALT=[T])\n",
      "Output 17 records\n",
      "+ vcffilterqual.py 078416_180Genomes_11rx_hq_EM_079517_np_primer.tagged.vcf\n",
      "Filtering Record(CHROM=EM_079517, POS=2282, REF=G, ALT=[T])\n",
      "Output 17 records\n",
      "+ ref_prefix=EM_079517_mut30_2\n",
      "+ sample=078416_180Genomes_11rx\n",
      "+ poretools_dir=078416_180Genomes_11rx\n",
      "+ sample_tag=078416_180Genomes_11rx_hq\n",
      "+ second_batch=na\n",
      "+ vcftagprimersites.py all np_EM_079517_mut30_2_078416_180Genomes_11rx_hq.vcf\n",
      "+ vcffilter.py 078416_180Genomes_11rx_hq_EM_079517_mut30_2_np_primer.tagged.vcf\n",
      "Output 48 records\n",
      "+ vcffilterqual.py 078416_180Genomes_11rx_hq_EM_079517_mut30_2_np_primer.tagged.vcf\n",
      "Output 48 records\n",
      "+ ref_prefix=EM_079517_mut30_2\n",
      "+ sample=076769_180Genomes_19Rx\n",
      "+ poretools_dir=076769_180Genomes_19Rx\n",
      "+ sample_tag=076769_180Genomes_19Rx_hq\n",
      "+ second_batch=na\n",
      "+ vcftagprimersites.py all np_EM_079517_mut30_2_076769_180Genomes_19Rx_hq.vcf\n",
      "+ vcffilter.py 076769_180Genomes_19Rx_hq_EM_079517_mut30_2_np_primer.tagged.vcf\n",
      "Filtering Record(CHROM=EM_079517, POS=3447, REF=T, ALT=[C])\n",
      "Output 49 records\n",
      "+ vcffilterqual.py 076769_180Genomes_19Rx_hq_EM_079517_mut30_2_np_primer.tagged.vcf\n",
      "Output 50 records\n"
     ]
    }
   ],
   "source": [
    "!makecommands.py ../metadata/metadata.db 180_Genomes consensus | parallel -j16"
   ]
  },
  {
   "cell_type": "code",
   "execution_count": 34,
   "metadata": {
    "collapsed": true
   },
   "outputs": [],
   "source": [
    "fh = open(\"validation_files_filtered.txt\", \"w\")\n",
    "fh.write(\"\"\"076534_180Genomes_11rx\tnp-6mer-5meralign\t../refs/EM_079517_EM_076534.mutations.txt\t076534_180Genomes_11rx_hq_EM_079517_np_primer.filtered075_30.vcf\n",
    "076533_180Genomes_11rx\tnp-6mer-5meralign\t../refs/EM_079517_EM_076533.mutations.txt\t076533_180Genomes_11rx_hq_EM_079517_np_primer.filtered075_30.vcf\n",
    "076383_180Genomes_11rx\tnp-6mer-5meralign\t../refs/EM_079517_EM_076383.mutations.txt\t076383_180Genomes_11rx_hq_EM_079517_np_primer.filtered075_30.vcf\n",
    "078416_180Genomes_11rx\tnp-6mer-5meralign\t../refs/EM_079517_EM_078416.mutations.txt\t078416_180Genomes_11rx_hq_EM_079517_np_primer.filtered075_30.vcf\n",
    "076769_180Genomes_19Rx\tnp-6mer-5meralign\t../refs/EM_079517_EM_076769.mutations.txt\t076769_180Genomes_19Rx_hq_EM_079517_np_primer.filtered075_30.vcf\"\"\")\n",
    "fh.close()"
   ]
  },
  {
   "cell_type": "code",
   "execution_count": 35,
   "metadata": {
    "collapsed": false
   },
   "outputs": [
    {
     "name": "stdout",
     "output_type": "stream",
     "text": [
      "sample                  tag                total_calls  mutations  TP    FP   FN   TPR\r\n",
      "076534_180Genomes_11rx  np-6mer-5meralign  14           17         14.0  0.0  3.0  0.823529411765\r\n",
      "076533_180Genomes_11rx  np-6mer-5meralign  19           19         19.0  0.0  0.0  1.0\r\n",
      "076383_180Genomes_11rx  np-6mer-5meralign  16           17         16.0  0.0  1.0  0.941176470588\r\n",
      "078416_180Genomes_11rx  np-6mer-5meralign  17           18         17.0  0.0  1.0  0.944444444444\r\n",
      "076769_180Genomes_19Rx  np-6mer-5meralign  18           19         18.0  0.0  1.0  0.947368421053\r\n"
     ]
    }
   ],
   "source": [
    "!../scripts/intersection_vcf_stats.py validation_files_filtered.txt | cut -f 1,2,5,6,7,8,9,10 | column -t "
   ]
  },
  {
   "cell_type": "markdown",
   "metadata": {},
   "source": [
    "# Get the 180 genome set"
   ]
  },
  {
   "cell_type": "code",
   "execution_count": null,
   "metadata": {
    "collapsed": false
   },
   "outputs": [],
   "source": [
    "from Bio import Entrez\n",
    "Entrez.email = \"n.j.loman@bham.ac.uk\"     # Always tell NCBI who you are\n",
    "handle = Entrez.esearch(db=\"nucleotide\", term=\"carroll and hiscox and ebola\", retmax=200)\n",
    "record = Entrez.read(handle)\n",
    "handle = Entrez.efetch(db=\"nucleotide\", id=record[\"IdList\"], rettype=\"fasta\", retmode=\"text\")\n",
    "fh = open(\"180_Genomes_references.fasta\", \"w\")\n",
    "fh.write(handle.read())"
   ]
  },
  {
   "cell_type": "code",
   "execution_count": null,
   "metadata": {
    "collapsed": false
   },
   "outputs": [],
   "source": [
    "!echo \"\\n\"  >> 180_Genomes_references.fasta \n",
    "!cat 180_Genomes_references.fasta  180_Genomes.fasta > validate_tree.fasta\n",
    "!sed --in-place '/^$/d' validate_tree.fasta\n",
    "!muscle3.8.31_i86linux64 -in validate_tree.fasta > validate_tree_aligned.fasta"
   ]
  },
  {
   "cell_type": "code",
   "execution_count": null,
   "metadata": {
    "collapsed": true
   },
   "outputs": [],
   "source": [
    "!sed --in-place 's/>.*H.sapiens-wt\\//>/' validate_tree_aligned.fasta\n",
    "!sed --in-place 's/>EM_079517_/>MinION_/' validate_tree_aligned.fasta\n",
    "!sed --in-place 's/,//' validate_tree_aligned.fasta"
   ]
  },
  {
   "cell_type": "code",
   "execution_count": null,
   "metadata": {
    "collapsed": false
   },
   "outputs": [],
   "source": [
    "!grep \">\" validate_tree_aligned.fasta"
   ]
  },
  {
   "cell_type": "code",
   "execution_count": null,
   "metadata": {
    "collapsed": false
   },
   "outputs": [],
   "source": [
    "!rm *validate_tree_aligned.raxml\n",
    "!raxmlHPC-PTHREADS-SSE3 -T 32 -f a -x 12345 -p 12345 -# 100 -m GTRGAMMA -s validate_tree_aligned.fasta -n validate_tree_aligned.raxml"
   ]
  },
  {
   "cell_type": "code",
   "execution_count": null,
   "metadata": {
    "collapsed": false
   },
   "outputs": [],
   "source": [
    "!cat /mnt/ebola/ebov/analysis/RAxML_bipartitions.validate_tree_aligned.raxml\n"
   ]
  },
  {
   "cell_type": "code",
   "execution_count": null,
   "metadata": {
    "collapsed": false
   },
   "outputs": [],
   "source": [
    "!pip install ete2\n",
    "\n",
    "from ete2 import Tree\n",
    "t = Tree()\n",
    "t.populate(20)\n",
    "t.render(file_name=\"test.png\", w=500)"
   ]
  },
  {
   "cell_type": "code",
   "execution_count": null,
   "metadata": {
    "collapsed": true
   },
   "outputs": [],
   "source": []
  }
 ],
 "metadata": {
  "kernelspec": {
   "display_name": "Python 2",
   "language": "python",
   "name": "python2"
  },
  "language_info": {
   "codemirror_mode": {
    "name": "ipython",
    "version": 2
   },
   "file_extension": ".py",
   "mimetype": "text/x-python",
   "name": "python",
   "nbconvert_exporter": "python",
   "pygments_lexer": "ipython2",
   "version": "2.7.6"
  }
 },
 "nbformat": 4,
 "nbformat_minor": 0
}
