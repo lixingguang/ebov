{
 "cells": [
  {
   "cell_type": "markdown",
   "metadata": {},
   "source": [
    "# Validation results\n",
    "\n",
    "In this notebook we examine how well Oxford Nanopore SNP calling agrees with SNP calling from Illumina data.\n",
    "\n",
    "The parameters we use are:\n",
    "    * nanopolish: 5-mer alignment, 6-mer variant calling, reverse HMM fix"
   ]
  },
  {
   "cell_type": "code",
   "execution_count": 1,
   "metadata": {
    "collapsed": false
   },
   "outputs": [],
   "source": [
    "ROOTDIR=\"/mnt/ebola/ebov\"\n",
    "import os\n",
    "os.environ['PATH'] = os.getenv('PATH') + ':' + ROOTDIR + '/scripts'"
   ]
  },
  {
   "cell_type": "code",
   "execution_count": 2,
   "metadata": {
    "collapsed": false
   },
   "outputs": [
    {
     "name": "stdout",
     "output_type": "stream",
     "text": [
      "/mnt/ebola/ebov\n"
     ]
    }
   ],
   "source": [
    "%cd $ROOTDIR"
   ]
  },
  {
   "cell_type": "code",
   "execution_count": null,
   "metadata": {
    "collapsed": false
   },
   "outputs": [],
   "source": [
    "%%bash\n",
    "\n",
    "ROOTDIR=\"/mnt/ebola/ebov\"\n",
    "cd $ROOTDIR\n",
    "export PATH=`pwd`/bin/bwa:$PATH\n",
    "export PATH=$PATH:`pwd`/scripts\n",
    "export PATH=$PATH:`pwd`/nanopore-scripts\n",
    "export PATH=$PATH:`pwd`/bin/nanopolish-6mer\n",
    "export PATH=$PATH:`pwd`/bin/samtools\n",
    "export PATH=$PATH:`pwd`/bin/marginAlign\n",
    "\n",
    "mkdir -p 180genomes-validation\n",
    "cd 180genomes-validation\n",
    "\n",
    "echo \"../models/6mer/ont_complement.pop1.model\" > offset_models.fofn\n",
    "echo \"../models/6mer/ont_complement.pop2.model\" >> offset_models.fofn\n",
    "echo \"../models/6mer/ont_template.model\" >> offset_models.fofn\n",
    "\n",
    "makecommands.py ../metadata/metadata.db 180_Genomes align_defaultkmer_margin.sh | parallel -j16"
   ]
  },
  {
   "cell_type": "code",
   "execution_count": 10,
   "metadata": {
    "collapsed": false
   },
   "outputs": [
    {
     "name": "stdout",
     "output_type": "stream",
     "text": [
      "[Errno 2] No such file or directory: '180genomes-validation'\n",
      "/mnt/ebola/ebov/180genomes-validation\n"
     ]
    }
   ],
   "source": [
    "## After the raw files are produced, show statistics.\n",
    "\n",
    "%cd 180genomes-validation"
   ]
  },
  {
   "cell_type": "code",
   "execution_count": 11,
   "metadata": {
    "collapsed": true
   },
   "outputs": [],
   "source": [
    "fh = open(\"validation_files.txt\", \"w\")\n",
    "fh.write(\"\"\"076534_180Genomes_11rx\tnp-var6mer-aln5mer\t../refs/EM_079517_EM_076534.mutations.txt\tnp_EM_079517_076534_180Genomes_11rx_hq.vcf\n",
    "076533_180Genomes_11rx\tnp-var6mer-aln5mer\t../refs/EM_079517_EM_076533.mutations.txt\tnp_EM_079517_076533_180Genomes_11rx_hq.vcf\n",
    "076383_180Genomes_11rx\tnp-var6mer-aln5mer\t../refs/EM_079517_EM_076383.mutations.txt\tnp_EM_079517_076383_180Genomes_11rx_hq.vcf\n",
    "078416_180Genomes_11rx\tnp-var6mer-aln5mer\t../refs/EM_079517_EM_078416.mutations.txt\tnp_EM_079517_078416_180Genomes_11rx_hq.vcf\n",
    "076769_180Genomes_19Rx\tnp-var6mer-aln5mer\t../refs/EM_079517_EM_076769.mutations.txt\tnp_EM_079517_076769_180Genomes_19Rx_hq.vcf\n",
    "\"\"\")\n",
    "fh.close()"
   ]
  },
  {
   "cell_type": "code",
   "execution_count": 12,
   "metadata": {
    "collapsed": false
   },
   "outputs": [
    {
     "name": "stdout",
     "output_type": "stream",
     "text": [
      "sample                  tag                 total_calls  mutations  TP    FP   FN   TPR\r\n",
      "076534_180Genomes_11rx  np-var6mer-aln5mer  14           18         14.0  0.0  4.0  0.777777777778\r\n",
      "076533_180Genomes_11rx  np-var6mer-aln5mer  20           20         19.0  1.0  1.0  0.95\r\n",
      "076383_180Genomes_11rx  np-var6mer-aln5mer  17           18         16.0  1.0  2.0  0.888888888889\r\n",
      "078416_180Genomes_11rx  np-var6mer-aln5mer  18           18         17.0  1.0  1.0  0.944444444444\r\n",
      "076769_180Genomes_19Rx  np-var6mer-aln5mer  19           19         19.0  0.0  0.0  1.0\r\n"
     ]
    }
   ],
   "source": [
    "!../scripts/intersection_vcf_stats.py validation_files.txt | cut -f 1,2,5,6,7,8,9,10 | column -t "
   ]
  },
  {
   "cell_type": "code",
   "execution_count": null,
   "metadata": {
    "collapsed": true
   },
   "outputs": [],
   "source": [
    "!../scripts/intersection_vcf_interrogate.py validation_files.txt > validation_stats.txt"
   ]
  },
  {
   "cell_type": "code",
   "execution_count": null,
   "metadata": {
    "collapsed": false
   },
   "outputs": [],
   "source": [
    "!head -10 validation_stats.txt"
   ]
  },
  {
   "cell_type": "code",
   "execution_count": null,
   "metadata": {
    "collapsed": false
   },
   "outputs": [],
   "source": [
    "%load_ext rpy2.ipython"
   ]
  },
  {
   "cell_type": "code",
   "execution_count": null,
   "metadata": {
    "collapsed": false
   },
   "outputs": [],
   "source": [
    "%%R\n",
    "\n",
    "library(ggplot2)\n",
    "\n",
    "stats=read.table(\"validation_stats.txt\", header=T)\n",
    "ggplot(stats, aes(x=supportfraction, fill=state)) + geom_histogram() + facet_wrap(~tag)"
   ]
  },
  {
   "cell_type": "markdown",
   "metadata": {},
   "source": [
    "## Remove low depth positions from plot (depth >= 30)"
   ]
  },
  {
   "cell_type": "code",
   "execution_count": null,
   "metadata": {
    "collapsed": false
   },
   "outputs": [],
   "source": [
    "%%R\n",
    "\n",
    "library(ggplot2)\n",
    "\n",
    "stats=read.table(\"validation_stats.txt\", header=T)\n",
    "ggplot(subset(stats, supportingreads>50), aes(x=supportfraction, fill=state)) + geom_histogram(breaks=c()) + facet_wrap(~tag)"
   ]
  },
  {
   "cell_type": "code",
   "execution_count": null,
   "metadata": {
    "collapsed": false
   },
   "outputs": [],
   "source": [
    "%%R\n",
    "\n",
    "library(ggplot2)\n",
    "\n",
    "stats=read.table(\"validation_stats.txt\", header=T)\n",
    "ggplot(subset(stats, supportingreads>50), aes(x=qual, fill=state)) + geom_histogram(breaks=c()) + xlim(0,2000) + facet_wrap(~tag)"
   ]
  },
  {
   "cell_type": "markdown",
   "metadata": {
    "collapsed": true
   },
   "source": [
    "## Filter the files as per the study (2d depth>= 25, 1d depth >=50, LL > 200, primer sequences masked)"
   ]
  },
  {
   "cell_type": "code",
   "execution_count": 14,
   "metadata": {
    "collapsed": false
   },
   "outputs": [
    {
     "name": "stdout",
     "output_type": "stream",
     "text": [
      "+ ref_prefix=EM_079517\n",
      "+ sample=076534_180Genomes_11rx\n",
      "+ poretools_dir=076534_180Genomes_11rx\n",
      "+ sample_tag=076534_180Genomes_11rx_hq\n",
      "+ second_batch=na\n",
      "+ vcftagprimersites.py all np_EM_079517_076534_180Genomes_11rx_hq.vcf\n",
      "+ vcffilter.py 076534_180Genomes_11rx_hq_EM_079517_np_primer.tagged.vcf\n",
      "Output 14 records\n",
      "+ vcffilterqual.py 076534_180Genomes_11rx_hq_EM_079517_np_primer.tagged.vcf\n",
      "Output 14 records\n",
      "+ ref_prefix=EM_079517_mut30_2\n",
      "+ sample=076534_180Genomes_11rx\n",
      "+ poretools_dir=076534_180Genomes_11rx\n",
      "+ sample_tag=076534_180Genomes_11rx_hq\n",
      "+ second_batch=na\n",
      "+ vcftagprimersites.py all np_EM_079517_mut30_2_076534_180Genomes_11rx_hq.vcf\n",
      "+ vcffilter.py 076534_180Genomes_11rx_hq_EM_079517_mut30_2_np_primer.tagged.vcf\n",
      "Output 0 records\n",
      "+ vcffilterqual.py 076534_180Genomes_11rx_hq_EM_079517_mut30_2_np_primer.tagged.vcf\n",
      "Output 0 records\n",
      "+ ref_prefix=EM_079517_mut30_2\n",
      "+ sample=076383_180Genomes_11rx\n",
      "+ poretools_dir=076383_180Genomes_11rx\n",
      "+ sample_tag=076383_180Genomes_11rx_hq\n",
      "+ second_batch=na\n",
      "+ vcftagprimersites.py all np_EM_079517_mut30_2_076383_180Genomes_11rx_hq.vcf\n",
      "+ vcffilter.py 076383_180Genomes_11rx_hq_EM_079517_mut30_2_np_primer.tagged.vcf\n",
      "Output 0 records\n",
      "+ vcffilterqual.py 076383_180Genomes_11rx_hq_EM_079517_mut30_2_np_primer.tagged.vcf\n",
      "Output 0 records\n",
      "+ ref_prefix=EM_079517\n",
      "+ sample=076533_180Genomes_11rx\n",
      "+ poretools_dir=076533_180Genomes_11rx\n",
      "+ sample_tag=076533_180Genomes_11rx_hq\n",
      "+ second_batch=na\n",
      "+ vcftagprimersites.py all np_EM_079517_076533_180Genomes_11rx_hq.vcf\n",
      "+ vcffilter.py 076533_180Genomes_11rx_hq_EM_079517_np_primer.tagged.vcf\n",
      "Output 20 records\n",
      "+ vcffilterqual.py 076533_180Genomes_11rx_hq_EM_079517_np_primer.tagged.vcf\n",
      "Filtering Record(CHROM=EM_079517, POS=40, REF=G, ALT=[T])\n",
      "Output 19 records\n",
      "+ ref_prefix=EM_079517_mut30_2\n",
      "+ sample=076533_180Genomes_11rx\n",
      "+ poretools_dir=076533_180Genomes_11rx\n",
      "+ sample_tag=076533_180Genomes_11rx_hq\n",
      "+ second_batch=na\n",
      "+ vcftagprimersites.py all np_EM_079517_mut30_2_076533_180Genomes_11rx_hq.vcf\n",
      "+ vcffilter.py 076533_180Genomes_11rx_hq_EM_079517_mut30_2_np_primer.tagged.vcf\n",
      "Output 50 records\n",
      "+ vcffilterqual.py 076533_180Genomes_11rx_hq_EM_079517_mut30_2_np_primer.tagged.vcf\n",
      "Filtering Record(CHROM=EM_079517, POS=40, REF=G, ALT=[T])\n",
      "Output 49 records\n",
      "+ ref_prefix=EM_079517\n",
      "+ sample=076383_180Genomes_11rx\n",
      "+ poretools_dir=076383_180Genomes_11rx\n",
      "+ sample_tag=076383_180Genomes_11rx_hq\n",
      "+ second_batch=na\n",
      "+ vcftagprimersites.py all np_EM_079517_076383_180Genomes_11rx_hq.vcf\n",
      "+ vcffilter.py 076383_180Genomes_11rx_hq_EM_079517_np_primer.tagged.vcf\n",
      "Filtering Record(CHROM=EM_079517, POS=40, REF=G, ALT=[T])\n",
      "Output 16 records\n",
      "+ vcffilterqual.py 076383_180Genomes_11rx_hq_EM_079517_np_primer.tagged.vcf\n",
      "Filtering Record(CHROM=EM_079517, POS=40, REF=G, ALT=[T])\n",
      "Output 16 records\n",
      "+ ref_prefix=EM_079517\n",
      "+ sample=078416_180Genomes_11rx\n",
      "+ poretools_dir=078416_180Genomes_11rx\n",
      "+ sample_tag=078416_180Genomes_11rx_hq\n",
      "+ second_batch=na\n",
      "+ vcftagprimersites.py all np_EM_079517_078416_180Genomes_11rx_hq.vcf\n",
      "+ vcffilter.py 078416_180Genomes_11rx_hq_EM_079517_np_primer.tagged.vcf\n",
      "Filtering Record(CHROM=EM_079517, POS=2282, REF=G, ALT=[T])\n",
      "Output 17 records\n",
      "+ vcffilterqual.py 078416_180Genomes_11rx_hq_EM_079517_np_primer.tagged.vcf\n",
      "Filtering Record(CHROM=EM_079517, POS=2282, REF=G, ALT=[T])\n",
      "Output 17 records\n",
      "+ ref_prefix=EM_079517_mut30_2\n",
      "+ sample=078416_180Genomes_11rx\n",
      "+ poretools_dir=078416_180Genomes_11rx\n",
      "+ sample_tag=078416_180Genomes_11rx_hq\n",
      "+ second_batch=na\n",
      "+ vcftagprimersites.py all np_EM_079517_mut30_2_078416_180Genomes_11rx_hq.vcf\n",
      "+ vcffilter.py 078416_180Genomes_11rx_hq_EM_079517_mut30_2_np_primer.tagged.vcf\n",
      "Output 48 records\n",
      "+ vcffilterqual.py 078416_180Genomes_11rx_hq_EM_079517_mut30_2_np_primer.tagged.vcf\n",
      "Output 48 records\n",
      "+ ref_prefix=EM_079517\n",
      "+ sample=076769_180Genomes_19Rx\n",
      "+ poretools_dir=076769_180Genomes_19Rx\n",
      "+ sample_tag=076769_180Genomes_19Rx_hq\n",
      "+ second_batch=na\n",
      "+ vcftagprimersites.py all np_EM_079517_076769_180Genomes_19Rx_hq.vcf\n",
      "+ vcffilter.py 076769_180Genomes_19Rx_hq_EM_079517_np_primer.tagged.vcf\n",
      "Filtering Record(CHROM=EM_079517, POS=3447, REF=T, ALT=[C])\n",
      "Output 18 records\n",
      "+ vcffilterqual.py 076769_180Genomes_19Rx_hq_EM_079517_np_primer.tagged.vcf\n",
      "Output 19 records\n",
      "+ ref_prefix=EM_079517_mut30_2\n",
      "+ sample=076769_180Genomes_19Rx\n",
      "+ poretools_dir=076769_180Genomes_19Rx\n",
      "+ sample_tag=076769_180Genomes_19Rx_hq\n",
      "+ second_batch=na\n",
      "+ vcftagprimersites.py all np_EM_079517_mut30_2_076769_180Genomes_19Rx_hq.vcf\n",
      "+ vcffilter.py 076769_180Genomes_19Rx_hq_EM_079517_mut30_2_np_primer.tagged.vcf\n",
      "Output 0 records\n",
      "+ vcffilterqual.py 076769_180Genomes_19Rx_hq_EM_079517_mut30_2_np_primer.tagged.vcf\n",
      "Output 0 records\n"
     ]
    }
   ],
   "source": [
    "!makecommands.py ../metadata/metadata.db 180_Genomes consensus | parallel -j16"
   ]
  },
  {
   "cell_type": "code",
   "execution_count": 16,
   "metadata": {
    "collapsed": true
   },
   "outputs": [],
   "source": [
    "fh = open(\"validation_files_filtered.txt\", \"w\")\n",
    "fh.write(\"\"\"076534_180Genomes_11rx\tnp-6mer-5meralign\t../refs/EM_079517_EM_076534.mutations.txt\t076534_180Genomes_11rx_hq_EM_079517_np_primer.filtered_qual200.vcf\n",
    "076533_180Genomes_11rx\tnp-6mer-5meralign\t../refs/EM_079517_EM_076533.mutations.txt\t076533_180Genomes_11rx_hq_EM_079517_np_primer.filtered_qual200.vcf\n",
    "076383_180Genomes_11rx\tnp-6mer-5meralign\t../refs/EM_079517_EM_076383.mutations.txt\t076383_180Genomes_11rx_hq_EM_079517_np_primer.filtered_qual200.vcf\n",
    "078416_180Genomes_11rx\tnp-6mer-5meralign\t../refs/EM_079517_EM_078416.mutations.txt\t078416_180Genomes_11rx_hq_EM_079517_np_primer.filtered_qual200.vcf\n",
    "076769_180Genomes_19Rx\tnp-6mer-5meralign\t../refs/EM_079517_EM_076769.mutations.txt\t076769_180Genomes_19Rx_hq_EM_079517_np_primer.filtered_qual200.vcf\"\"\")\n",
    "fh.close()"
   ]
  },
  {
   "cell_type": "code",
   "execution_count": 17,
   "metadata": {
    "collapsed": false
   },
   "outputs": [
    {
     "name": "stdout",
     "output_type": "stream",
     "text": [
      "sample                  tag                total_calls  mutations  TP    FP   FN   TPR\r\n",
      "076534_180Genomes_11rx  np-6mer-5meralign  14           18         14.0  0.0  4.0  0.777777777778\r\n",
      "076533_180Genomes_11rx  np-6mer-5meralign  19           20         19.0  0.0  1.0  0.95\r\n",
      "076383_180Genomes_11rx  np-6mer-5meralign  16           18         16.0  0.0  2.0  0.888888888889\r\n",
      "078416_180Genomes_11rx  np-6mer-5meralign  17           18         17.0  0.0  1.0  0.944444444444\r\n",
      "076769_180Genomes_19Rx  np-6mer-5meralign  19           19         19.0  0.0  0.0  1.0\r\n"
     ]
    }
   ],
   "source": [
    "!../scripts/intersection_vcf_stats.py validation_files_filtered.txt | cut -f 1,2,5,6,7,8,9,10 | column -t "
   ]
  },
  {
   "cell_type": "code",
   "execution_count": null,
   "metadata": {
    "collapsed": true
   },
   "outputs": [],
   "source": [
    "!makecommands.py ../metadata/metadata.db 180_Genomes qual.sh | parallel\n"
   ]
  },
  {
   "cell_type": "code",
   "execution_count": null,
   "metadata": {
    "collapsed": true
   },
   "outputs": [],
   "source": [
    "!collect_quals.py ../metadata/metadata.db 180_Genomes > stats.txt"
   ]
  },
  {
   "cell_type": "code",
   "execution_count": null,
   "metadata": {
    "collapsed": false
   },
   "outputs": [],
   "source": [
    "%load_ext rpy2.ipython"
   ]
  },
  {
   "cell_type": "code",
   "execution_count": null,
   "metadata": {
    "collapsed": false
   },
   "outputs": [],
   "source": [
    "%%R\n",
    "library(ggplot2)\n",
    "library(grid)\n",
    "library(plyr)\n",
    "a=read.table(\"stats.txt\", sep=\"\\t\", header=T)\n",
    "a=subset(a, aln == 'ma')\n",
    "a$perc = a$matches/(a$matches + a$insertions + a$deletions + a$mismatches)*100\n",
    "cdat <- ddply(a, \"sample\", summarise, sample.mean=mean(perc))\n",
    "cdat\n",
    "ggplot(a, aes(x=perc)) +\n",
    "  geom_histogram() +\n",
    "  scale_x_continuous(breaks=c(60, 70, 80, 90, 100)) +\n",
    "  geom_vline(data=cdat, aes(xintercept=sample.mean), size=0.2, linetype=\"dashed\") +\n",
    "  theme_bw(base_size=8) + xlab(\"Percentage accuracy\") +\n",
    "  facet_wrap(~ sample, ncol=1)\n",
    " # theme(strip.text = element_blank(), strip.background = element_blank(), panel.margin.y = unit(-0.5, \"lines\"))\n",
    "#ggsave(\"percs_144_ma.pdf\", height=12, width=9)\n"
   ]
  },
  {
   "cell_type": "code",
   "execution_count": null,
   "metadata": {
    "collapsed": false
   },
   "outputs": [],
   "source": [
    "!pwd"
   ]
  },
  {
   "cell_type": "code",
   "execution_count": null,
   "metadata": {
    "collapsed": false
   },
   "outputs": [],
   "source": [
    "%%R\n",
    "library(ggplot2)\n",
    "library(grid)\n",
    "library(plyr)\n",
    "a=read.table(\"stats.txt\", sep=\"\\t\", header=T)\n",
    "a=subset(a, aln == 'ma')\n",
    "a$perc = a$matches/(a$matches + a$insertions + a$deletions + a$mismatches)*100\n",
    "cdat <- ddply(a, \"sample\", summarise, sample.mean=mean(perc))\n",
    "cdat\n",
    "ggplot(a, aes(x=perc)) +\n",
    "  geom_histogram() +\n",
    "  scale_x_continuous(breaks=c(60, 70, 80, 90, 100)) +\n",
    "  geom_vline(data=cdat, aes(xintercept=sample.mean), size=0.2, linetype=\"dashed\") +\n",
    "  theme_bw(base_size=8) + xlab(\"Percentage accuracy\") +\n",
    "  facet_wrap(~ sample, ncol=5)\n",
    " # theme(strip.text = element_blank(), strip.background = element_blank(), panel.margin.y = unit(-0.5, \"lines\"))\n",
    "#ggsave(\"percs_144_ma.pdf\", height=12, width=9)\n"
   ]
  },
  {
   "cell_type": "code",
   "execution_count": 18,
   "metadata": {
    "collapsed": false
   },
   "outputs": [
    {
     "name": "stdout",
     "output_type": "stream",
     "text": [
      "make_stats_file.py ../metadata/metadata.db 180_Genomes  | intersection_vcf_stats.py /dev/stdin | awk '($10>=0.0&&$10<=1.0)' | grep np-new-filter_qual200-50 | cut -f1 | sort | uniq | xargs -L 1 -I '{}' margin_cons.py ../refs/EM_079517.fasta {}_hq_EM_079517_np_primer.tagged.vcf EM_079517_{}_hq_marginalign.sorted.bam all >180_Genomes-tpr0.0.fasta 2>180_Genomes-tpr0.0.stderr\n",
      "tagfastas.py ../metadata/metadata.db < 180_Genomes-tpr0.0.fasta > 180_Genomes-tpr0.0.tagged.fasta\n"
     ]
    }
   ],
   "source": [
    "!make -f ../scripts/filter_clusters.mk METADATA=../metadata/metadata.db SET=180_Genomes PREFIX=180_Genomes TPR=0.0 TPRMAX=1.0"
   ]
  },
  {
   "cell_type": "code",
   "execution_count": 19,
   "metadata": {
    "collapsed": false
   },
   "outputs": [
    {
     "name": "stdout",
     "output_type": "stream",
     "text": [
      ">EM_079517_076383_180Genomes_11rx_hq_marginalign.sorted.bam\r\n",
      ">EM_079517_076533_180Genomes_11rx_hq_marginalign.sorted.bam\r\n",
      ">EM_079517_076534_180Genomes_11rx_hq_marginalign.sorted.bam\r\n",
      ">EM_079517_076769_180Genomes_19Rx_hq_marginalign.sorted.bam\r\n",
      ">EM_079517_078416_180Genomes_11rx_hq_marginalign.sorted.bam\r\n"
     ]
    }
   ],
   "source": [
    "!grep \">\" 180_Genomes-tpr0.0.fasta"
   ]
  },
  {
   "cell_type": "markdown",
   "metadata": {},
   "source": [
    "# Get the 180 genome set"
   ]
  },
  {
   "cell_type": "code",
   "execution_count": 20,
   "metadata": {
    "collapsed": false
   },
   "outputs": [],
   "source": [
    "from Bio import Entrez\n",
    "Entrez.email = \"n.j.loman@bham.ac.uk\"     # Always tell NCBI who you are\n",
    "handle = Entrez.esearch(db=\"nucleotide\", term=\"carroll and hiscox and ebola\", retmax=200)\n",
    "record = Entrez.read(handle)\n",
    "handle = Entrez.efetch(db=\"nucleotide\", id=record[\"IdList\"], rettype=\"fasta\", retmode=\"text\")\n",
    "fh = open(\"180_Genomes_references.fasta\", \"w\")\n",
    "fh.write(handle.read())"
   ]
  },
  {
   "cell_type": "code",
   "execution_count": null,
   "metadata": {
    "collapsed": false
   },
   "outputs": [
    {
     "name": "stdout",
     "output_type": "stream",
     "text": [
      "\n",
      "MUSCLE v3.8.31 by Robert C. Edgar\n",
      "\n",
      "http://www.drive5.com/muscle\n",
      "This software is donated to the public domain.\n",
      "Please cite: Edgar, R.C. Nucleic Acids Res 32(5), 1792-97.\n",
      "\n",
      "validate_tree 184 seqs, max length 18960, avg  length 18921\n",
      "00:00:04    29 MB(-2%)  Iter   1  100.00%  K-mer dist pass 1\n",
      "00:00:04    29 MB(-2%)  Iter   1  100.00%  K-mer dist pass 2\n"
     ]
    }
   ],
   "source": [
    "!echo \"\\n\"  >> 180_Genomes_references.fasta \n",
    "!cat 180_Genomes_references.fasta 180_Genomes-tpr0.0.fasta > validate_tree.fasta\n",
    "!sed --in-place '/^$/d' validate_tree.fasta\n",
    "!../bin/muscle/muscle3.8.31_i86linux64 -in validate_tree.fasta > validate_tree_aligned.fasta"
   ]
  },
  {
   "cell_type": "code",
   "execution_count": 23,
   "metadata": {
    "collapsed": true
   },
   "outputs": [],
   "source": [
    "!sed --in-place 's/>.*H.sapiens-wt\\//>/' validate_tree_aligned.fasta\n",
    "!sed --in-place 's/>EM_079517_/>MinION_/' validate_tree_aligned.fasta\n",
    "!sed --in-place 's/,//' validate_tree_aligned.fasta"
   ]
  },
  {
   "cell_type": "code",
   "execution_count": 25,
   "metadata": {
    "collapsed": true
   },
   "outputs": [],
   "source": [
    "!sed --in-place 's/_hq_marginalign.sorted.bam//' validate_tree_aligned.fasta"
   ]
  },
  {
   "cell_type": "code",
   "execution_count": 26,
   "metadata": {
    "collapsed": false
   },
   "outputs": [
    {
     "name": "stdout",
     "output_type": "stream",
     "text": [
      ">MinION_076534_180Genomes_11rx\r\n",
      ">MinION_076769_180Genomes_19Rx\r\n",
      ">MinION_076383_180Genomes_11rx\r\n",
      ">MinION_078416_180Genomes_11rx\r\n",
      ">MinION_076533_180Genomes_11rx\r\n",
      ">GIN/2014/Makona-EM_076615 partial genome\r\n",
      ">GIN/2014/Makona-EM_079388 partial genome\r\n",
      ">GIN/2014/Makona-EM_078415 partial genome\r\n",
      ">GIN/2014/Makona-EM_076138 partial genome\r\n",
      ">GIN/2014/Makona-EM_076770 partial genome\r\n",
      ">GIN/2014/Makona-EM_080076 partial genome\r\n",
      ">GIN/2014/Makona-EM_074354 partial genome\r\n",
      ">GIN/2014/Makona-EM_078763 partial genome\r\n",
      ">LBR/2014/Makona-EM_080223 partial genome\r\n",
      ">GIN/2014/Makona-EM_000321 partial genome\r\n",
      ">GIN/2014/Makona-EM_000500 partial genome\r\n",
      ">GIN/2015/Makona-EM_004589 partial genome\r\n",
      ">GIN/2014/Makona-EM_079578 partial genome\r\n",
      ">GIN/2014/Makona-EM_079587 partial genome\r\n",
      ">GIN/2014/Makona-EM_079514 partial genome\r\n",
      ">GIN/2014/Makona-EM_074335 partial genome\r\n",
      ">GIN/2014/Makona-EM_079859 partial genome\r\n",
      ">GIN/2014/Makona-EM_079815 partial genome\r\n",
      ">GIN/2014/Makona-EM_079750 partial genome\r\n",
      ">GIN/2014/Makona-EM_079775 partial genome\r\n",
      ">GIN/2014/Makona-EM_079914 partial genome\r\n",
      ">GIN/2014/Makona-EM_079913 partial genome\r\n",
      ">GIN/2014/Makona-EM_079912 partial genome\r\n",
      ">GIN/2014/Makona-EM_079911 partial genome\r\n",
      ">GIN/2014/Makona-EM_079910 partial genome\r\n",
      ">GIN/2014/Makona-EM_080141 partial genome\r\n",
      ">GIN/2014/Makona-EM_080063 partial genome\r\n",
      ">GIN/2014/Makona-EM_000934 partial genome\r\n",
      ">GIN/2014/Makona-EM_079414 partial genome\r\n",
      ">GIN/2014/Makona-EM_079413 partial genome\r\n",
      ">GIN/2014/Makona-EM_079497 partial genome\r\n",
      ">GIN/2014/Makona-EM_079657 partial genome\r\n",
      ">GIN/2014/Makona-EM_079404 partial genome\r\n",
      ">GIN/2014/Makona-EM_079677 partial genome\r\n",
      ">GIN/2014/Makona-EM_079630 partial genome\r\n",
      ">GIN/2014/Makona-EM_079702 partial genome\r\n",
      ">GIN/2014/Makona-EM_079412 partial genome\r\n",
      ">GIN/2014/Makona-EM_079464 partial genome\r\n",
      ">GIN/2014/Makona-EM_079659 partial genome\r\n",
      ">GIN/2014/Makona-EM_079622 partial genome\r\n",
      ">LBR/2014/Makona-EM_079450 partial genome\r\n",
      ">GIN/2014/Makona-EM_079444 partial genome\r\n",
      ">GIN/2014/Makona-EM_079408 partial genome\r\n",
      ">GIN/2014/Makona-EM_079405 partial genome\r\n",
      ">GIN/2014/Makona-EM_079772 partial genome\r\n",
      ">GIN/2014/Makona-EM_079753 partial genome\r\n",
      ">GIN/2014/Makona-EM_079681 partial genome\r\n",
      ">GIN/2014/Makona-EM_079749 partial genome\r\n",
      ">GIN/2014/Makona-EM_079915 partial genome\r\n",
      ">GIN/2014/Makona-EM_079685 partial genome\r\n",
      ">GIN/2014/Makona-EM_079731 partial genome\r\n",
      ">GIN/2014/Makona-EM_079434 partial genome\r\n",
      ">GIN/2014/Makona-EM_079424 partial genome\r\n",
      ">GIN/2014/Makona-EM_079429 partial genome\r\n",
      ">GIN/2014/Makona-EM_079542 partial genome\r\n",
      ">GIN/2014/Makona-EM_079549 partial genome\r\n",
      ">GIN/2014/Makona-EM_079517 partial genome\r\n",
      ">GIN/2014/Makona-EM_079421 partial genome\r\n",
      ">GIN/2014/Makona-EM_079423 partial genome\r\n",
      ">GIN/2014/Makona-EM_079422 partial genome\r\n",
      ">GIN/2014/Makona-EM_074531 partial genome\r\n",
      ">GIN/2014/Makona-EM_074461 partial genome\r\n",
      ">GIN/2014/Makona-EM_000707 partial genome\r\n",
      ">LBR/2014/Makona-EM_080213 partial genome\r\n",
      ">LBR/2014/Makona-EM_080193 partial genome\r\n",
      ">GIN/2014/Makona-EM_079442 partial genome\r\n",
      ">GIN/2014/Makona-EM_080253 partial genome\r\n",
      ">LBR/2014/Makona-EM_080066 partial genome\r\n",
      ">GIN/2014/Makona-EM_079410 partial genome\r\n",
      ">GIN/2014/Makona-EM_079880 partial genome\r\n",
      ">LBR/2014/Makona-EM_080064 partial genome\r\n",
      ">SLE/2014/Makona-EM_079983 partial genome\r\n",
      ">SLE/2014/Makona-EM_080132 partial genome\r\n",
      ">GIN/2014/Makona-EM_079876 partial genome\r\n",
      ">SLE/2014/Makona-EM_080011 partial genome\r\n",
      ">GIN/2014/Makona-EM_000958 partial genome\r\n",
      ">GIN/2014/Makona-EM_000982 partial genome\r\n",
      ">GIN/2014/Makona-EM_000925 partial genome\r\n",
      ">LBR/2014/Makona-EM_075043 partial genome\r\n",
      ">GIN/2014/Makona-EM_074684 partial genome\r\n",
      ">GIN/2014/Makona-EM_078709 partial genome\r\n",
      ">GIN/2014/Makona-EM_078697 partial genome\r\n",
      ">GIN/2014/Makona-EM_076949 partial genome\r\n",
      ">GIN/2014/Makona-EM_076769 partial genome\r\n",
      ">GIN/2014/Makona-EM_076948 partial genome\r\n",
      ">GIN/2014/Makona-EM_076534 partial genome\r\n",
      ">GIN/2014/Makona-EM_076533 partial genome\r\n",
      ">GIN/2014/Makona-EM_075368 partial genome\r\n",
      ">GIN/2014/Makona-EM_000921 partial genome\r\n",
      ">GIN/2014/Makona-EM_000968 partial genome\r\n",
      ">LBR/2014/Makona-EM_080261 partial genome\r\n",
      ">LBR/2014/Makona-EM_074349 partial genome\r\n",
      ">GIN/2015/Makona-EM_004580 partial genome\r\n",
      ">GIN/2015/Makona-EM_004503 partial genome\r\n",
      ">GIN/2015/Makona-EM_004563 partial genome\r\n",
      ">GIN/2015/Makona-EM_004555 partial genome\r\n",
      ">GIN/2014/Makona-EM_078555 partial genome\r\n",
      ">GIN/2014/Makona-EM_004192 partial genome\r\n",
      ">LBR/2014/Makona-EM_074350 partial genome\r\n",
      ">LBR/2014/Makona-EM_074353 partial genome\r\n",
      ">LBR/2014/Makona-EM_074351 partial genome\r\n",
      ">LBR/2014/Makona-EM_074352 partial genome\r\n",
      ">LBR/2014/Makona-EM_074391 partial genome\r\n",
      ">LBR/2014/Makona-EM_074392 partial genome\r\n",
      ">GIN/2014/Makona-EM_078654 partial genome\r\n",
      ">GIN/2014/Makona-EM_078608 partial genome\r\n",
      ">GIN/2014/Makona-EM_000983 partial genome\r\n",
      ">SLE/2014/Makona-EM_080165 partial genome\r\n",
      ">SLE/2014/Makona-EM_080265 partial genome\r\n",
      ">GIN/2014/Makona-EM_001101 partial genome\r\n",
      ">GIN/2014/Makona-EM_000027 partial genome\r\n",
      ">GIN/2014/Makona-EM_000219 partial genome\r\n",
      ">GIN/2014/Makona-EM_074439 partial genome\r\n",
      ">GIN/2014/Makona-EM_000128 partial genome\r\n",
      ">GIN/2014/Makona-EM_000706 partial genome\r\n",
      ">GIN/2014/Makona-EM_074438 partial genome\r\n",
      ">GIN/2014/Makona-EM_074437 partial genome\r\n",
      ">GIN/2014/Makona-EM_074436 partial genome\r\n",
      ">GIN/2014/Makona-EM_001102 partial genome\r\n",
      ">LBR/2014/Makona-EM_074720 partial genome\r\n",
      ">GIN/2014/Makona-EM_076322 partial genome\r\n",
      ">GIN/2014/Makona-EM_076610 partial genome\r\n",
      ">LBR/2014/Makona-EM_080067 partial genome\r\n",
      ">LBR/2014/Makona-EM_080065 partial genome\r\n",
      ">LBR/2014/Makona-EM_080269 partial genome\r\n",
      ">SLE/2014/Makona-EM_080003 partial genome\r\n",
      ">GIN/2014/Makona-EM_000127 partial genome\r\n",
      ">GIN/2014/Makona-EM_000028 partial genome\r\n",
      ">GIN/2014/Makona-EM_000218 partial genome\r\n",
      ">GIN/2014/Makona-EM_074785 partial genome\r\n",
      ">GIN/2014/Makona-EM_000015 partial genome\r\n",
      ">GIN/2014/Makona-EM_076951 partial genome\r\n",
      ">GIN/2014/Makona-EM_076193 partial genome\r\n",
      ">GIN/2014/Makona-EM_000502 partial genome\r\n",
      ">GIN/2014/Makona-EM_000501 partial genome\r\n",
      ">GIN/2015/Makona-EM_004438 partial genome\r\n",
      ">GIN/2014/Makona-EM_078670 partial genome\r\n",
      ">GIN/2014/Makona-EM_078639 partial genome\r\n",
      ">GIN/2015/Makona-EM_004494 partial genome\r\n",
      ">GIN/2014/Makona-EM_075435 partial genome\r\n",
      ">GIN/2014/Makona-EM_075931 partial genome\r\n",
      ">GIN/2014/Makona-EM_075928 partial genome\r\n",
      ">GIN/2014/Makona-EM_000457 partial genome\r\n",
      ">GIN/2014/Makona-EM_078656 partial genome\r\n",
      ">GIN/2014/Makona-EM_078556 partial genome\r\n",
      ">GIN/2014/Makona-EM_076383 partial genome\r\n",
      ">GIN/2014/Makona-EM_076191 partial genome\r\n",
      ">GIN/2014/Makona-EM_076217 partial genome\r\n",
      ">GIN/2014/Makona-EM_075076 partial genome\r\n",
      ">GIN/2014/Makona-EM_004259 partial genome\r\n",
      ">GIN/2014/Makona-EM_004201 partial genome\r\n",
      ">GIN/2015/Makona-EM_004422 partial genome\r\n",
      ">GIN/2014/Makona-EM_004059 partial genome\r\n",
      ">GIN/2014/Makona-EM_078706 partial genome\r\n",
      ">GIN/2014/Makona-EM_078694 partial genome\r\n",
      ">GIN/2014/Makona-EM_078779 partial genome\r\n",
      ">GIN/2014/Makona-EM_078722 partial genome\r\n",
      ">GIN/2014/Makona-EM_004290 partial genome\r\n",
      ">GIN/2014/Makona-EM_004085 partial genome\r\n",
      ">GIN/2015/Makona-EM_004437 partial genome\r\n",
      ">GIN/2015/Makona-EM_004414 partial genome\r\n",
      ">GIN/2014/Makona-EM_075932 partial genome\r\n",
      ">GIN/2014/Makona-EM_078683 partial genome\r\n",
      ">GIN/2014/Makona-EM_076472 partial genome\r\n",
      ">GIN/2014/Makona-EM_076403 partial genome\r\n",
      ">LBR/2014/Makona-EM_074821 partial genome\r\n",
      ">LBR/2014/Makona-EM_074822 partial genome\r\n",
      ">GIN/2014/Makona-EM_076335 partial genome\r\n",
      ">GIN/2014/Makona-EM_076334 partial genome\r\n",
      ">GIN/2014/Makona-EM_078638 partial genome\r\n",
      ">GIN/2014/Makona-EM_075447 partial genome\r\n",
      ">GIN/2014/Makona-EM_075929 partial genome\r\n",
      ">GIN/2014/Makona-EM_074462 partial genome\r\n",
      ">GIN/2014/Makona-EM_078416 partial genome\r\n",
      ">GIN/2015/Makona-EM_004481 partial genome\r\n",
      ">GIN/2014/Makona-EM_076192 partial genome\r\n",
      ">GIN/2014/Makona-EM_075930 partial genome\r\n",
      ">GIN/2014/Makona-EM_075373 partial genome\r\n",
      ">LBR/2014/Makona-EM_074548 partial genome\r\n"
     ]
    }
   ],
   "source": [
    "!grep \">\" validate_tree_aligned.fasta"
   ]
  },
  {
   "cell_type": "code",
   "execution_count": 28,
   "metadata": {
    "collapsed": false
   },
   "outputs": [
    {
     "name": "stdout",
     "output_type": "stream",
     "text": [
      "rm: cannot remove ‘*validate_tree_aligned.raxml’: No such file or directory\n",
      "\n",
      "RAxML can't, parse the alignment file as phylip file \n",
      "it will now try to parse it as FASTA file\n",
      "\n",
      "\n",
      "\n",
      "IMPORTANT WARNING: Sequences GIN/2014/Makona-EM_078779 and GIN/2014/Makona-EM_004290 are exactly identical\n",
      "\n",
      "IMPORTANT WARNING\n",
      "Found 1 sequence that is exactly identical to other sequences in the alignment.\n",
      "Normally they should be excluded from the analysis.\n",
      "\n",
      "Just in case you might need it, an alignment file with \n",
      "sequence duplicates removed is printed to file validate_tree_aligned.fasta.reduced\n",
      "\n",
      "\n",
      "Using BFGS method to optimize GTR rate parameters, to disable this specify \"--no-bfgs\" \n",
      "\n",
      "\n",
      "This is the RAxML Master Pthread\n",
      "\n",
      "This is RAxML Worker Pthread Number: 3\n",
      "\n",
      "This is RAxML Worker Pthread Number: 4\n",
      "\n",
      "This is RAxML Worker Pthread Number: 2\n",
      "\n",
      "This is RAxML Worker Pthread Number: 1\n",
      "\n",
      "This is RAxML Worker Pthread Number: 6\n",
      "\n",
      "This is RAxML Worker Pthread Number: 7\n",
      "\n",
      "This is RAxML Worker Pthread Number: 8\n",
      "\n",
      "This is RAxML Worker Pthread Number: 9\n",
      "\n",
      "This is RAxML Worker Pthread Number: 10\n",
      "\n",
      "This is RAxML Worker Pthread Number: 5\n",
      "\n",
      "This is RAxML Worker Pthread Number: 11\n",
      "\n",
      "This is RAxML Worker Pthread Number: 12\n",
      "\n",
      "This is RAxML Worker Pthread Number: 13\n",
      "\n",
      "This is RAxML Worker Pthread Number: 15\n",
      "\n",
      "This is RAxML Worker Pthread Number: 14\n",
      "\n",
      "This is RAxML Worker Pthread Number: 16\n",
      "\n",
      "This is RAxML Worker Pthread Number: 17\n",
      "\n",
      "This is RAxML Worker Pthread Number: 18\n",
      "\n",
      "This is RAxML Worker Pthread Number: 19\n",
      "\n",
      "This is RAxML Worker Pthread Number: 20\n",
      "\n",
      "This is RAxML Worker Pthread Number: 21\n",
      "\n",
      "This is RAxML Worker Pthread Number: 22\n",
      "\n",
      "This is RAxML Worker Pthread Number: 23\n",
      "\n",
      "This is RAxML Worker Pthread Number: 24\n",
      "\n",
      "This is RAxML Worker Pthread Number: 25\n",
      "\n",
      "This is RAxML Worker Pthread Number: 26\n",
      "\n",
      "This is RAxML Worker Pthread Number: 27\n",
      "\n",
      "This is RAxML Worker Pthread Number: 28\n",
      "\n",
      "This is RAxML Worker Pthread Number: 30\n",
      "\n",
      "This is RAxML Worker Pthread Number: 31\n",
      "\n",
      "This is RAxML Worker Pthread Number: 29\n",
      "\n",
      "\n",
      "This is RAxML version 8.2.4 released by Alexandros Stamatakis on October 02 2015.\n",
      "\n",
      "With greatly appreciated code contributions by:\n",
      "Andre Aberer      (HITS)\n",
      "Simon Berger      (HITS)\n",
      "Alexey Kozlov     (HITS)\n",
      "Kassian Kobert    (HITS)\n",
      "David Dao         (KIT and HITS)\n",
      "Nick Pattengale   (Sandia)\n",
      "Wayne Pfeiffer    (SDSC)\n",
      "Akifumi S. Tanabe (NRIFS)\n",
      "\n",
      "Alignment has 539 distinct alignment patterns\n",
      "\n",
      "Proportion of gaps and completely undetermined characters in this alignment: 0.50%\n",
      "\n",
      "RAxML rapid bootstrapping and subsequent ML search\n",
      "\n",
      "Using 1 distinct models/data partitions with joint branch length optimization\n",
      "\n",
      "\n",
      "\n",
      "Executing 100 rapid bootstrap inferences and thereafter a thorough ML search \n",
      "\n",
      "All free model parameters will be estimated by RAxML\n",
      "GAMMA model of rate heteorgeneity, ML estimate of alpha-parameter\n",
      "\n",
      "GAMMA Model parameters will be estimated up to an accuracy of 0.1000000000 Log Likelihood units\n",
      "\n",
      "Partition: 0\n",
      "Alignment Patterns: 539\n",
      "Name: No Name Provided\n",
      "DataType: DNA\n",
      "Substitution Matrix: GTR\n",
      "\n",
      "\n",
      "\n",
      "\n",
      "RAxML was called as follows:\n",
      "\n",
      "../bin/standard-RAxML/raxmlHPC-PTHREADS-SSE3 -T 32 -f a -x 12345 -p 12345 -# 100 -m GTRGAMMA -s validate_tree_aligned.fasta -n validate_tree_aligned.raxml \n",
      "\n",
      "\n",
      "\n",
      "Time for BS model parameter optimization 0.269070\n",
      "Bootstrap[0]: Time 5.979147 seconds, bootstrap likelihood -37316.390083, best rearrangement setting 13\n",
      "Bootstrap[1]: Time 6.235437 seconds, bootstrap likelihood -37442.492474, best rearrangement setting 13\n",
      "Bootstrap[2]: Time 5.286053 seconds, bootstrap likelihood -38005.262465, best rearrangement setting 12\n",
      "Bootstrap[3]: Time 5.351575 seconds, bootstrap likelihood -37756.761683, best rearrangement setting 15\n",
      "Bootstrap[4]: Time 7.012098 seconds, bootstrap likelihood -38300.054142, best rearrangement setting 10\n",
      "Bootstrap[5]: Time 5.495227 seconds, bootstrap likelihood -37782.071131, best rearrangement setting 10\n",
      "Bootstrap[6]: Time 5.128333 seconds, bootstrap likelihood -37940.243761, best rearrangement setting 6\n",
      "Bootstrap[7]: Time 6.887860 seconds, bootstrap likelihood -37554.730227, best rearrangement setting 14\n",
      "Bootstrap[8]: Time 4.218239 seconds, bootstrap likelihood -36884.818452, best rearrangement setting 5\n",
      "Bootstrap[9]: Time 4.738280 seconds, bootstrap likelihood -38228.134632, best rearrangement setting 7\n",
      "Bootstrap[10]: Time 5.960242 seconds, bootstrap likelihood -38040.586286, best rearrangement setting 7\n",
      "Bootstrap[11]: Time 5.016543 seconds, bootstrap likelihood -37540.513502, best rearrangement setting 5\n",
      "Bootstrap[12]: Time 6.838401 seconds, bootstrap likelihood -37719.288194, best rearrangement setting 8\n",
      "Bootstrap[13]: Time 4.663296 seconds, bootstrap likelihood -38200.155488, best rearrangement setting 7\n",
      "Bootstrap[14]: Time 6.828565 seconds, bootstrap likelihood -37741.934765, best rearrangement setting 12\n",
      "Bootstrap[15]: Time 9.584105 seconds, bootstrap likelihood -37522.209493, best rearrangement setting 15\n",
      "Bootstrap[16]: Time 7.480140 seconds, bootstrap likelihood -38162.834961, best rearrangement setting 12\n",
      "Bootstrap[17]: Time 6.839802 seconds, bootstrap likelihood -36786.326778, best rearrangement setting 12\n",
      "Bootstrap[18]: Time 4.592115 seconds, bootstrap likelihood -38289.299854, best rearrangement setting 5\n",
      "Bootstrap[19]: Time 6.219484 seconds, bootstrap likelihood -37434.614214, best rearrangement setting 8\n",
      "Bootstrap[20]: Time 4.988709 seconds, bootstrap likelihood -38435.006060, best rearrangement setting 10\n",
      "Bootstrap[21]: Time 4.860101 seconds, bootstrap likelihood -37947.107836, best rearrangement setting 6\n",
      "Bootstrap[22]: Time 4.587231 seconds, bootstrap likelihood -37583.343647, best rearrangement setting 5\n",
      "Bootstrap[23]: Time 4.916193 seconds, bootstrap likelihood -37561.518058, best rearrangement setting 7\n",
      "Bootstrap[24]: Time 5.759312 seconds, bootstrap likelihood -37114.373815, best rearrangement setting 8\n",
      "Bootstrap[25]: Time 4.888981 seconds, bootstrap likelihood -37549.955802, best rearrangement setting 6\n",
      "Bootstrap[26]: Time 7.043539 seconds, bootstrap likelihood -37598.421071, best rearrangement setting 12\n",
      "Bootstrap[27]: Time 6.597437 seconds, bootstrap likelihood -38185.736376, best rearrangement setting 10\n",
      "Bootstrap[28]: Time 6.494216 seconds, bootstrap likelihood -37940.876967, best rearrangement setting 11\n",
      "Bootstrap[29]: Time 6.433588 seconds, bootstrap likelihood -38263.597126, best rearrangement setting 12\n",
      "Bootstrap[30]: Time 7.844112 seconds, bootstrap likelihood -37642.312367, best rearrangement setting 15\n",
      "Bootstrap[31]: Time 7.619621 seconds, bootstrap likelihood -37446.129424, best rearrangement setting 15\n",
      "Bootstrap[32]: Time 5.003346 seconds, bootstrap likelihood -37489.785908, best rearrangement setting 6\n",
      "Bootstrap[33]: Time 6.635955 seconds, bootstrap likelihood -37357.599917, best rearrangement setting 15\n",
      "Bootstrap[34]: Time 5.087949 seconds, bootstrap likelihood -37524.345840, best rearrangement setting 11\n",
      "Bootstrap[35]: Time 7.248518 seconds, bootstrap likelihood -37550.742620, best rearrangement setting 8\n",
      "Bootstrap[36]: Time 4.888928 seconds, bootstrap likelihood -38686.596814, best rearrangement setting 9\n",
      "Bootstrap[37]: Time 6.176670 seconds, bootstrap likelihood -37348.255908, best rearrangement setting 11\n",
      "Bootstrap[38]: Time 6.388320 seconds, bootstrap likelihood -37535.440371, best rearrangement setting 8\n",
      "Bootstrap[39]: Time 5.883980 seconds, bootstrap likelihood -38242.383047, best rearrangement setting 13\n",
      "Bootstrap[40]: Time 6.062755 seconds, bootstrap likelihood -37517.383170, best rearrangement setting 13\n",
      "Bootstrap[41]: Time 5.139034 seconds, bootstrap likelihood -37138.816407, best rearrangement setting 10\n",
      "Bootstrap[42]: Time 4.510669 seconds, bootstrap likelihood -37290.197905, best rearrangement setting 5\n",
      "Bootstrap[43]: Time 6.737607 seconds, bootstrap likelihood -37657.701851, best rearrangement setting 14\n",
      "Bootstrap[44]: Time 5.689198 seconds, bootstrap likelihood -37573.740769, best rearrangement setting 10\n",
      "Bootstrap[45]: Time 6.586565 seconds, bootstrap likelihood -37677.547608, best rearrangement setting 15\n",
      "Bootstrap[46]: Time 5.506373 seconds, bootstrap likelihood -37621.114055, best rearrangement setting 14\n",
      "Bootstrap[47]: Time 5.376070 seconds, bootstrap likelihood -37562.063920, best rearrangement setting 8\n",
      "Bootstrap[48]: Time 5.043716 seconds, bootstrap likelihood -37584.011347, best rearrangement setting 6\n",
      "Bootstrap[49]: Time 5.139949 seconds, bootstrap likelihood -37675.084680, best rearrangement setting 7\n",
      "Bootstrap[50]: Time 5.517367 seconds, bootstrap likelihood -37848.590689, best rearrangement setting 7\n",
      "Bootstrap[51]: Time 5.305896 seconds, bootstrap likelihood -37732.398168, best rearrangement setting 11\n",
      "Bootstrap[52]: Time 5.419082 seconds, bootstrap likelihood -38621.817873, best rearrangement setting 12\n",
      "Bootstrap[53]: Time 4.377510 seconds, bootstrap likelihood -37299.290521, best rearrangement setting 8\n",
      "Bootstrap[54]: Time 5.429588 seconds, bootstrap likelihood -38677.576647, best rearrangement setting 9\n",
      "Bootstrap[55]: Time 7.014390 seconds, bootstrap likelihood -37478.864769, best rearrangement setting 11\n",
      "Bootstrap[56]: Time 4.633094 seconds, bootstrap likelihood -37683.486543, best rearrangement setting 5\n",
      "Bootstrap[57]: Time 4.033209 seconds, bootstrap likelihood -38029.457793, best rearrangement setting 7\n",
      "Bootstrap[58]: Time 4.935711 seconds, bootstrap likelihood -37178.394789, best rearrangement setting 10\n",
      "Bootstrap[59]: Time 7.165503 seconds, bootstrap likelihood -37597.621506, best rearrangement setting 9\n",
      "Bootstrap[60]: Time 5.584688 seconds, bootstrap likelihood -37926.467057, best rearrangement setting 7\n",
      "Bootstrap[61]: Time 4.911373 seconds, bootstrap likelihood -37831.977089, best rearrangement setting 5\n",
      "Bootstrap[62]: Time 6.609020 seconds, bootstrap likelihood -37644.912686, best rearrangement setting 11\n",
      "Bootstrap[63]: Time 6.252728 seconds, bootstrap likelihood -38140.273172, best rearrangement setting 12\n",
      "Bootstrap[64]: Time 5.850467 seconds, bootstrap likelihood -37877.262563, best rearrangement setting 7\n",
      "Bootstrap[65]: Time 4.026335 seconds, bootstrap likelihood -36871.770741, best rearrangement setting 5\n",
      "Bootstrap[66]: Time 4.250615 seconds, bootstrap likelihood -37260.366313, best rearrangement setting 5\n",
      "Bootstrap[67]: Time 7.116884 seconds, bootstrap likelihood -37361.311494, best rearrangement setting 15\n",
      "Bootstrap[68]: Time 5.120750 seconds, bootstrap likelihood -37188.921950, best rearrangement setting 11\n",
      "Bootstrap[69]: Time 4.878501 seconds, bootstrap likelihood -38075.910074, best rearrangement setting 5\n",
      "Bootstrap[70]: Time 5.417068 seconds, bootstrap likelihood -37773.806097, best rearrangement setting 8\n",
      "Bootstrap[71]: Time 7.198497 seconds, bootstrap likelihood -37697.185324, best rearrangement setting 10\n",
      "Bootstrap[72]: Time 5.665517 seconds, bootstrap likelihood -37926.100311, best rearrangement setting 11\n",
      "Bootstrap[73]: Time 5.775495 seconds, bootstrap likelihood -37614.844264, best rearrangement setting 9\n",
      "Bootstrap[74]: Time 5.174420 seconds, bootstrap likelihood -37716.149593, best rearrangement setting 5\n",
      "Bootstrap[75]: Time 6.135306 seconds, bootstrap likelihood -37435.944953, best rearrangement setting 8\n",
      "Bootstrap[76]: Time 5.180067 seconds, bootstrap likelihood -37895.167036, best rearrangement setting 9\n",
      "Bootstrap[77]: Time 5.984319 seconds, bootstrap likelihood -37625.545142, best rearrangement setting 11\n",
      "Bootstrap[78]: Time 5.329183 seconds, bootstrap likelihood -38223.235949, best rearrangement setting 15\n",
      "Bootstrap[79]: Time 5.798265 seconds, bootstrap likelihood -37630.565309, best rearrangement setting 9\n",
      "Bootstrap[80]: Time 6.793518 seconds, bootstrap likelihood -37058.508813, best rearrangement setting 15\n",
      "Bootstrap[81]: Time 5.540780 seconds, bootstrap likelihood -37861.789684, best rearrangement setting 7\n",
      "Bootstrap[82]: Time 5.353704 seconds, bootstrap likelihood -37486.143788, best rearrangement setting 6\n",
      "Bootstrap[83]: Time 5.903684 seconds, bootstrap likelihood -38272.732985, best rearrangement setting 10\n",
      "Bootstrap[84]: Time 5.999185 seconds, bootstrap likelihood -37784.441282, best rearrangement setting 11\n",
      "Bootstrap[85]: Time 4.911141 seconds, bootstrap likelihood -37752.340313, best rearrangement setting 8\n",
      "Bootstrap[86]: Time 3.687404 seconds, bootstrap likelihood -37870.625748, best rearrangement setting 7\n",
      "Bootstrap[87]: Time 5.031482 seconds, bootstrap likelihood -37574.625112, best rearrangement setting 7\n",
      "Bootstrap[88]: Time 6.982312 seconds, bootstrap likelihood -37879.466127, best rearrangement setting 12\n",
      "Bootstrap[89]: Time 6.250854 seconds, bootstrap likelihood -38129.646651, best rearrangement setting 10\n",
      "Bootstrap[90]: Time 5.452442 seconds, bootstrap likelihood -37549.863469, best rearrangement setting 8\n",
      "Bootstrap[91]: Time 6.493006 seconds, bootstrap likelihood -37969.467843, best rearrangement setting 12\n",
      "Bootstrap[92]: Time 5.874700 seconds, bootstrap likelihood -37663.187911, best rearrangement setting 13\n",
      "Bootstrap[93]: Time 6.058155 seconds, bootstrap likelihood -38188.034169, best rearrangement setting 15\n",
      "Bootstrap[94]: Time 4.931088 seconds, bootstrap likelihood -37779.778126, best rearrangement setting 5\n",
      "Bootstrap[95]: Time 5.020456 seconds, bootstrap likelihood -36414.478776, best rearrangement setting 5\n",
      "Bootstrap[96]: Time 6.630375 seconds, bootstrap likelihood -37447.954405, best rearrangement setting 13\n",
      "Bootstrap[97]: Time 6.459002 seconds, bootstrap likelihood -37830.597958, best rearrangement setting 11\n",
      "Bootstrap[98]: Time 4.819839 seconds, bootstrap likelihood -37738.719865, best rearrangement setting 6\n",
      "Bootstrap[99]: Time 6.346232 seconds, bootstrap likelihood -37408.439966, best rearrangement setting 14\n",
      "\n",
      "\n",
      "Overall Time for 100 Rapid Bootstraps 577.292681 seconds\n",
      "Average Time per Rapid Bootstrap 5.772927 seconds\n",
      "\n",
      "Starting ML Search ...\n",
      "\n",
      "Fast ML optimization finished\n",
      "\n",
      "Fast ML search Time: 178.773197 seconds\n",
      "\n",
      "Slow ML Search 0 Likelihood: -37887.615732\n",
      "Slow ML Search 1 Likelihood: -37901.553484\n",
      "Slow ML Search 2 Likelihood: -37896.806943\n",
      "Slow ML Search 3 Likelihood: -37886.280529\n",
      "Slow ML Search 4 Likelihood: -37883.518126\n",
      "Slow ML Search 5 Likelihood: -37889.649660\n",
      "Slow ML Search 6 Likelihood: -37895.956009\n",
      "Slow ML Search 7 Likelihood: -37887.431648\n",
      "Slow ML Search 8 Likelihood: -37885.774808\n",
      "Slow ML Search 9 Likelihood: -37890.192166\n",
      "Slow ML optimization finished\n",
      "\n",
      "Slow ML search Time: 194.978055 seconds\n",
      "Thorough ML search Time: 11.475860 seconds\n",
      "\n",
      "Final ML Optimization Likelihood: -32009.009467\n",
      "\n",
      "Model Information:\n",
      "\n",
      "Model Parameters of Partition 0, Name: No Name Provided, Type of Data: DNA\n",
      "alpha: 0.020000\n",
      "Tree-Length: 0.034128\n",
      "rate A <-> C: 1.024704\n",
      "rate A <-> G: 2.967825\n",
      "rate A <-> T: 0.388253\n",
      "rate C <-> G: 0.969809\n",
      "rate C <-> T: 4.003461\n",
      "rate G <-> T: 1.000000\n",
      "\n",
      "freq pi(A): 0.319077\n",
      "freq pi(C): 0.213927\n",
      "freq pi(G): 0.198101\n",
      "freq pi(T): 0.268895\n",
      "\n",
      "\n",
      "ML search took 385.229997 secs or 0.107008 hours\n",
      "\n",
      "Combined Bootstrap and ML search took 962.522887 secs or 0.267367 hours\n",
      "\n",
      "Drawing Bootstrap Support Values on best-scoring ML tree ...\n",
      "\n",
      "\n",
      "\n",
      "Found 1 tree in File /mnt/ebola/ebov/180genomes-validation/RAxML_bestTree.validate_tree_aligned.raxml\n",
      "\n",
      "\n",
      "\n",
      "Found 1 tree in File /mnt/ebola/ebov/180genomes-validation/RAxML_bestTree.validate_tree_aligned.raxml\n",
      "\n",
      "Program execution info written to /mnt/ebola/ebov/180genomes-validation/RAxML_info.validate_tree_aligned.raxml\n",
      "All 100 bootstrapped trees written to: /mnt/ebola/ebov/180genomes-validation/RAxML_bootstrap.validate_tree_aligned.raxml\n",
      "\n",
      "Best-scoring ML tree written to: /mnt/ebola/ebov/180genomes-validation/RAxML_bestTree.validate_tree_aligned.raxml\n",
      "\n",
      "Best-scoring ML tree with support values written to: /mnt/ebola/ebov/180genomes-validation/RAxML_bipartitions.validate_tree_aligned.raxml\n",
      "\n",
      "Best-scoring ML tree with support values as branch labels written to: /mnt/ebola/ebov/180genomes-validation/RAxML_bipartitionsBranchLabels.validate_tree_aligned.raxml\n",
      "\n",
      "Overall execution time for full ML analysis: 962.596256 secs or 0.267388 hours or 0.011141 days\n",
      "\n"
     ]
    }
   ],
   "source": [
    "!rm *validate_tree_aligned.raxml\n",
    "!../bin/standard-RAxML/raxmlHPC-PTHREADS-SSE3 -T 32 -f a -x 12345 -p 12345 -# 100 -m GTRGAMMA -s validate_tree_aligned.fasta -n validate_tree_aligned.raxml"
   ]
  },
  {
   "cell_type": "code",
   "execution_count": null,
   "metadata": {
    "collapsed": false
   },
   "outputs": [],
   "source": [
    "!cat /mnt/ebola/ebov/analysis/RAxML_bipartitions.validate_tree_aligned.raxml\n"
   ]
  },
  {
   "cell_type": "code",
   "execution_count": null,
   "metadata": {
    "collapsed": false
   },
   "outputs": [],
   "source": [
    "!pip install ete2\n",
    "\n",
    "from ete2 import Tree\n",
    "t = Tree()\n",
    "t.populate(20)\n",
    "t.render(file_name=\"test.png\", w=500)"
   ]
  },
  {
   "cell_type": "code",
   "execution_count": null,
   "metadata": {
    "collapsed": true
   },
   "outputs": [],
   "source": []
  }
 ],
 "metadata": {
  "kernelspec": {
   "display_name": "Python 2",
   "language": "python",
   "name": "python2"
  },
  "language_info": {
   "codemirror_mode": {
    "name": "ipython",
    "version": 2
   },
   "file_extension": ".py",
   "mimetype": "text/x-python",
   "name": "python",
   "nbconvert_exporter": "python",
   "pygments_lexer": "ipython2",
   "version": "2.7.6"
  }
 },
 "nbformat": 4,
 "nbformat_minor": 0
}
