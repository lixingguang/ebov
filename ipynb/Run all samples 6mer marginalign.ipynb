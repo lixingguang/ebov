{
 "cells": [
  {
   "cell_type": "markdown",
   "metadata": {},
   "source": [
    "# Run alignment and variant calling\n",
    "\n",
    "The parameters we use are:\n",
    "    * nanopolish: 5-mer alignment, 6-mer variant calling, reverse HMM fix"
   ]
  },
  {
   "cell_type": "code",
   "execution_count": 6,
   "metadata": {
    "collapsed": false
   },
   "outputs": [],
   "source": [
    "ROOTDIR=\"/mnt/ebola/ebov\"\n",
    "import os\n",
    "os.environ['PATH'] = os.getenv('PATH') + ':' + ROOTDIR + '/scripts' + ':' + ROOTDIR + '/bin/standard-RAxML'"
   ]
  },
  {
   "cell_type": "code",
   "execution_count": 7,
   "metadata": {
    "collapsed": false
   },
   "outputs": [
    {
     "name": "stdout",
     "output_type": "stream",
     "text": [
      "/mnt/ebola/ebov\n"
     ]
    }
   ],
   "source": [
    "%cd $ROOTDIR"
   ]
  },
  {
   "cell_type": "code",
   "execution_count": null,
   "metadata": {
    "collapsed": false
   },
   "outputs": [],
   "source": [
    "%%bash\n",
    "\n",
    "ROOTDIR=\"/mnt/ebola/ebov\"\n",
    "cd $ROOTDIR\n",
    "export PATH=`pwd`/bin/bwa:$PATH\n",
    "export PATH=$PATH:`pwd`/scripts\n",
    "export PATH=$PATH:`pwd`/bin/nanopolish-6mer\n",
    "export PATH=$PATH:`pwd`/bin/samtools\n",
    "export PATH=$PATH:`pwd`/bin/marginAlign\n",
    "\n",
    "mkdir -p analysis-EMLab\n",
    "cd analysis-EMLab\n",
    "\n",
    "echo \"../models/6mer/ont_complement.pop1.model\" > offset_models.fofn\n",
    "echo \"../models/6mer/ont_complement.pop2.model\" >> offset_models.fofn\n",
    "echo \"../models/6mer/ont_template.model\" >> offset_models.fofn\n",
    "\n",
    "makecommands.py ../metadata/metadata.db EMLab align_defaultkmer_margin.sh | parallel -j40"
   ]
  },
  {
   "cell_type": "code",
   "execution_count": null,
   "metadata": {
    "collapsed": false
   },
   "outputs": [],
   "source": [
    "## After the raw files are produced, show statistics.\n",
    "\n",
    "%cd analysis-var6mer-aln5mer-reverse-marginalign-all"
   ]
  },
  {
   "cell_type": "code",
   "execution_count": null,
   "metadata": {
    "collapsed": false
   },
   "outputs": [],
   "source": [
    "!makecommands.py ../metadata/metadata.db EMLab consensus.sh | parallel -j40"
   ]
  },
  {
   "cell_type": "code",
   "execution_count": null,
   "metadata": {
    "collapsed": false
   },
   "outputs": [],
   "source": [
    "!dump_consensus.sh ../metadata/metadata.db 20151028"
   ]
  },
  {
   "cell_type": "code",
   "execution_count": null,
   "metadata": {
    "collapsed": false
   },
   "outputs": [],
   "source": [
    "!rm *oct28*\n",
    "!make -f ../scripts/tree.mk PREFIX=oct28 FASTA=consensus-20151028-tpr0.75.tagged.fasta THREADS=40 DIST=0.0002"
   ]
  },
  {
   "cell_type": "code",
   "execution_count": null,
   "metadata": {
    "collapsed": false
   },
   "outputs": [],
   "source": [
    "!make_stats_file.py ../metadata/metadata.db EMLab | intersection_vcf_stats.py /dev/stdin > tp_stats.txt"
   ]
  },
  {
   "cell_type": "code",
   "execution_count": null,
   "metadata": {
    "collapsed": false
   },
   "outputs": [],
   "source": [
    "!head -10 tp_stats.txt"
   ]
  },
  {
   "cell_type": "code",
   "execution_count": null,
   "metadata": {
    "collapsed": false
   },
   "outputs": [],
   "source": [
    "%load_ext rpy2.ipython"
   ]
  },
  {
   "cell_type": "code",
   "execution_count": null,
   "metadata": {
    "collapsed": false
   },
   "outputs": [],
   "source": [
    "%%R\n",
    "stats=read.table(\"tp_stats.txt\", header=T, sep=\"\\t\")\n",
    "a = nrow(subset(stats, tag == 'np-new-filter_qual200-50' & TPR > 0.8))\n",
    "subset(stats, tag == 'np-new-filter_qual200-50' & TPR < 0.2)\n"
   ]
  },
  {
   "cell_type": "code",
   "execution_count": null,
   "metadata": {
    "collapsed": false
   },
   "outputs": [],
   "source": [
    "%%R\n",
    "\n",
    "library(ggplot2)\n",
    "stats=read.table(\"tp_stats.txt\", header=T, sep=\"\\t\")\n",
    "ggplot(stats, aes(x=TPR)) + geom_histogram() + facet_wrap(~tag)"
   ]
  },
  {
   "cell_type": "code",
   "execution_count": null,
   "metadata": {
    "collapsed": true
   },
   "outputs": [],
   "source": []
  }
 ],
 "metadata": {
  "kernelspec": {
   "display_name": "Python 2",
   "language": "python",
   "name": "python2"
  },
  "language_info": {
   "codemirror_mode": {
    "name": "ipython",
    "version": 2
   },
   "file_extension": ".py",
   "mimetype": "text/x-python",
   "name": "python",
   "nbconvert_exporter": "python",
   "pygments_lexer": "ipython2",
   "version": "2.7.6"
  }
 },
 "nbformat": 4,
 "nbformat_minor": 0
}
